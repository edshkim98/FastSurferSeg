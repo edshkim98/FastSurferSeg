{
  "cells": [
    {
      "cell_type": "markdown",
      "metadata": {
        "id": "view-in-github",
        "colab_type": "text"
      },
      "source": [
        "<a href=\"https://colab.research.google.com/github/edshkim98/FastSurferSeg/blob/master/Complete_FastSurfer_TutorialMICCAI.ipynb\" target=\"_parent\"><img src=\"https://colab.research.google.com/assets/colab-badge.svg\" alt=\"Open In Colab\"/></a>"
      ]
    },
    {
      "cell_type": "markdown",
      "metadata": {
        "collapsed": false,
        "id": "yr5zvcJLa5Ug"
      },
      "source": [
        "# Introduction to FastSurfer"
      ]
    },
    {
      "cell_type": "code",
      "source": [],
      "metadata": {
        "id": "V5Gb2uil5u_2"
      },
      "execution_count": null,
      "outputs": []
    },
    {
      "cell_type": "markdown",
      "metadata": {
        "id": "gcIDMFz4pRD9"
      },
      "source": [
        "## **FastSurfer - a fast and accurate deep-learning based neuroimaging pipeline**\n",
        "\n",
        "- Fast tool for automated processing of structural human brain MRIs\n",
        "- Enables time-critical clinical applications and scalable big-data analysis\n",
        "- Beyond speed - Fastsurfer is accurate, reliable and sensitive ([Henschel et al., 2020](https://www.sciencedirect.com/science/article/pii/S1053811920304985))\n",
        "- Supporting 0.7–1.0 mm whole brain segmentation ([Henschel et al., 2022](https://www.sciencedirect.com/science/article/pii/S1053811922000623))\n",
        "- Freely available on Github: https://github.com/deep-mi/fastsurfer\n",
        "- Required input: T1-weighted MRI image\n",
        "- Supported formats - potentially everything nibabel can read:\n",
        "> - NIFTI (.nii, .nii.gz), MGH (FreeSurfer format, .mgz), ...\n",
        "- Optimal Configuration: Linux + Docker + GPU; 10 GB RAM needed"
      ]
    },
    {
      "cell_type": "markdown",
      "metadata": {
        "id": "OGI71KpVqGBt"
      },
      "source": [
        "## **FastSurfer CNN**\n",
        "- Three single neural networks\n",
        "> - axial, coronal, sagittal view\n",
        "> - final view aggregation\n",
        "- Creates a whole-brain segmentation into 95 classes (following the [Desikian-Killiany-Tourville](https://www.frontiersin.org/articles/10.3389/fnins.2012.00171/full) atlas)"
      ]
    },
    {
      "cell_type": "markdown",
      "source": [],
      "metadata": {
        "id": "MUknxlYM7-h9"
      }
    },
    {
      "cell_type": "markdown",
      "metadata": {
        "id": "87qEuu_fXuX9"
      },
      "source": [
        "# **Use case 1: Quick and Easy - FastSurfer Segmentation with three clicks**\n",
        "\n",
        "\n"
      ]
    },
    {
      "cell_type": "markdown",
      "metadata": {
        "id": "DpvjCnfdSmSR"
      },
      "source": [
        "### Enabling the GPU\n",
        "\n",
        "First, you'll need to enable GPUs for the notebook:\n",
        "\n",
        "- Navigate to Edit→Notebook Settings\n",
        "- select GPU from the Hardware Accelerator drop-down\n",
        "\n",
        "### Cookies\n",
        "\n",
        "Make sure your Browser allows third-party cookies\n",
        "\n",
        " - [Firefox](https://support.mozilla.org/en-US/kb/third-party-cookies-firefox-tracking-protection)\n",
        " - [Google Chrome](https://support.google.com/chrome/answer/95647?hl=en&co=GENIE.Platform=Desktop#zippy=%2Callow-or-block-cookies)"
      ]
    },
    {
      "cell_type": "markdown",
      "metadata": {
        "id": "aKwchby6WVe0"
      },
      "source": [
        "---"
      ]
    },
    {
      "cell_type": "markdown",
      "metadata": {
        "collapsed": false,
        "id": "7ob7ecJWa5Un"
      },
      "source": [
        "## Click 1: Setup FastSurfer"
      ]
    },
    {
      "cell_type": "code",
      "execution_count": null,
      "metadata": {
        "colab": {
          "base_uri": "https://localhost:8080/"
        },
        "id": "WZ8LofYba5Uo",
        "outputId": "0dcb69a2-86e9-44ad-f8bb-227a9fa30ae5"
      },
      "outputs": [
        {
          "output_type": "stream",
          "name": "stdout",
          "text": [
            "Starting setup. This could take a few minutes\n",
            "----------------------------------------------\n",
            "/content\n",
            "Using /content/ to store files.\n",
            "Downloading FastSurfer\n",
            "----------------------------------------------\n",
            "Installing required packages\n",
            "----------------------------------------------\n",
            "Requirement already satisfied: torchio==0.18.83 in /usr/local/lib/python3.11/dist-packages (0.18.83)\n",
            "Requirement already satisfied: Deprecated in /usr/local/lib/python3.11/dist-packages (from torchio==0.18.83) (1.2.18)\n",
            "Requirement already satisfied: SimpleITK!=2.0.*,!=2.1.1.1 in /usr/local/lib/python3.11/dist-packages (from torchio==0.18.83) (2.4.1)\n",
            "Requirement already satisfied: click in /usr/local/lib/python3.11/dist-packages (from torchio==0.18.83) (8.1.8)\n",
            "Requirement already satisfied: humanize in /usr/local/lib/python3.11/dist-packages (from torchio==0.18.83) (4.11.0)\n",
            "Requirement already satisfied: nibabel in /usr/local/lib/python3.11/dist-packages (from torchio==0.18.83) (5.3.2)\n",
            "Requirement already satisfied: numpy>=1.15 in /usr/local/lib/python3.11/dist-packages (from torchio==0.18.83) (1.26.4)\n",
            "Requirement already satisfied: scipy in /usr/local/lib/python3.11/dist-packages (from torchio==0.18.83) (1.13.1)\n",
            "Requirement already satisfied: torch>=1.1 in /usr/local/lib/python3.11/dist-packages (from torchio==0.18.83) (2.5.1+cu124)\n",
            "Requirement already satisfied: tqdm in /usr/local/lib/python3.11/dist-packages (from torchio==0.18.83) (4.67.1)\n",
            "Requirement already satisfied: filelock in /usr/local/lib/python3.11/dist-packages (from torch>=1.1->torchio==0.18.83) (3.17.0)\n",
            "Requirement already satisfied: typing-extensions>=4.8.0 in /usr/local/lib/python3.11/dist-packages (from torch>=1.1->torchio==0.18.83) (4.12.2)\n",
            "Requirement already satisfied: networkx in /usr/local/lib/python3.11/dist-packages (from torch>=1.1->torchio==0.18.83) (3.4.2)\n",
            "Requirement already satisfied: jinja2 in /usr/local/lib/python3.11/dist-packages (from torch>=1.1->torchio==0.18.83) (3.1.5)\n",
            "Requirement already satisfied: fsspec in /usr/local/lib/python3.11/dist-packages (from torch>=1.1->torchio==0.18.83) (2024.10.0)\n",
            "Requirement already satisfied: nvidia-cuda-nvrtc-cu12==12.4.127 in /usr/local/lib/python3.11/dist-packages (from torch>=1.1->torchio==0.18.83) (12.4.127)\n",
            "Requirement already satisfied: nvidia-cuda-runtime-cu12==12.4.127 in /usr/local/lib/python3.11/dist-packages (from torch>=1.1->torchio==0.18.83) (12.4.127)\n",
            "Requirement already satisfied: nvidia-cuda-cupti-cu12==12.4.127 in /usr/local/lib/python3.11/dist-packages (from torch>=1.1->torchio==0.18.83) (12.4.127)\n",
            "Requirement already satisfied: nvidia-cudnn-cu12==9.1.0.70 in /usr/local/lib/python3.11/dist-packages (from torch>=1.1->torchio==0.18.83) (9.1.0.70)\n",
            "Requirement already satisfied: nvidia-cublas-cu12==12.4.5.8 in /usr/local/lib/python3.11/dist-packages (from torch>=1.1->torchio==0.18.83) (12.4.5.8)\n",
            "Requirement already satisfied: nvidia-cufft-cu12==11.2.1.3 in /usr/local/lib/python3.11/dist-packages (from torch>=1.1->torchio==0.18.83) (11.2.1.3)\n",
            "Requirement already satisfied: nvidia-curand-cu12==10.3.5.147 in /usr/local/lib/python3.11/dist-packages (from torch>=1.1->torchio==0.18.83) (10.3.5.147)\n",
            "Requirement already satisfied: nvidia-cusolver-cu12==11.6.1.9 in /usr/local/lib/python3.11/dist-packages (from torch>=1.1->torchio==0.18.83) (11.6.1.9)\n",
            "Requirement already satisfied: nvidia-cusparse-cu12==12.3.1.170 in /usr/local/lib/python3.11/dist-packages (from torch>=1.1->torchio==0.18.83) (12.3.1.170)\n",
            "Requirement already satisfied: nvidia-nccl-cu12==2.21.5 in /usr/local/lib/python3.11/dist-packages (from torch>=1.1->torchio==0.18.83) (2.21.5)\n",
            "Requirement already satisfied: nvidia-nvtx-cu12==12.4.127 in /usr/local/lib/python3.11/dist-packages (from torch>=1.1->torchio==0.18.83) (12.4.127)\n",
            "Requirement already satisfied: nvidia-nvjitlink-cu12==12.4.127 in /usr/local/lib/python3.11/dist-packages (from torch>=1.1->torchio==0.18.83) (12.4.127)\n",
            "Requirement already satisfied: triton==3.1.0 in /usr/local/lib/python3.11/dist-packages (from torch>=1.1->torchio==0.18.83) (3.1.0)\n",
            "Requirement already satisfied: sympy==1.13.1 in /usr/local/lib/python3.11/dist-packages (from torch>=1.1->torchio==0.18.83) (1.13.1)\n",
            "Requirement already satisfied: mpmath<1.4,>=1.1.0 in /usr/local/lib/python3.11/dist-packages (from sympy==1.13.1->torch>=1.1->torchio==0.18.83) (1.3.0)\n",
            "Requirement already satisfied: wrapt<2,>=1.10 in /usr/local/lib/python3.11/dist-packages (from Deprecated->torchio==0.18.83) (1.17.2)\n",
            "Requirement already satisfied: importlib-resources>=5.12 in /usr/local/lib/python3.11/dist-packages (from nibabel->torchio==0.18.83) (6.5.2)\n",
            "Requirement already satisfied: packaging>=20 in /usr/local/lib/python3.11/dist-packages (from nibabel->torchio==0.18.83) (24.2)\n",
            "Requirement already satisfied: MarkupSafe>=2.0 in /usr/local/lib/python3.11/dist-packages (from jinja2->torch>=1.1->torchio==0.18.83) (3.0.2)\n",
            "Requirement already satisfied: yacs==0.1.8 in /usr/local/lib/python3.11/dist-packages (0.1.8)\n",
            "Requirement already satisfied: PyYAML in /usr/local/lib/python3.11/dist-packages (from yacs==0.1.8) (6.0.2)\n",
            "Requirement already satisfied: plotly==5.9.0 in /usr/local/lib/python3.11/dist-packages (5.9.0)\n",
            "Requirement already satisfied: tenacity>=6.2.0 in /usr/local/lib/python3.11/dist-packages (from plotly==5.9.0) (9.0.0)\n",
            "Finished setup\n",
            "----------------------------------------------\n"
          ]
        }
      ],
      "source": [
        "#@title Here we first setup the environment by downloading the open source deep-mi/fastsurfer project and the required packages\n",
        "import os\n",
        "import sys\n",
        "from os.path import exists, join, basename, splitext\n",
        "\n",
        "print(\"Starting setup. This could take a few minutes\")\n",
        "print(\"----------------------------------------------\")\n",
        "\n",
        "is_google_colab = \"colab.research.google.com\" in str(os.environ)\n",
        "if is_google_colab:\n",
        "    # this is for a Google Colab Notebook\n",
        "    SETUP_DIR = \"/content/\"\n",
        "else:\n",
        "    SETUP_DIR = os.environ[\"HOME\"] + \"/fastsurfer_tutorial/\"\n",
        "\n",
        "# Go to the FastSurfer directory\n",
        "!mkdir -p \"{SETUP_DIR}\"\n",
        "%cd \"{SETUP_DIR}\"\n",
        "\n",
        "print(f\"Using {SETUP_DIR} to store files.\")\n",
        "\n",
        "print(\"Downloading FastSurfer\")\n",
        "print(\"----------------------------------------------\")\n",
        "\n",
        "\n",
        "git_repo_url = 'https://github.com/deep-mi/fastsurfer.git'\n",
        "project_name = splitext(basename(git_repo_url))[0]\n",
        "FASTSURFER_HOME = SETUP_DIR + project_name + \"/\"\n",
        "if not exists(project_name):\n",
        "  # clone and install dependencies\n",
        "  ! git clone -q --branch stable $git_repo_url\n",
        "  ! pip install -r $FASTSURFER_HOME/requirements.txt\n",
        "sys.path.append(FASTSURFER_HOME)\n",
        "\n",
        "# Update dependencies\n",
        "print(\"Installing required packages\")\n",
        "print(\"----------------------------------------------\")\n",
        "\n",
        "! pip install torchio==0.18.83\n",
        "! pip install yacs==0.1.8\n",
        "! pip install plotly==5.9.0\n",
        "\n",
        "print(\"Finished setup\")\n",
        "print(\"----------------------------------------------\")\n"
      ]
    },
    {
      "cell_type": "markdown",
      "metadata": {
        "collapsed": false,
        "id": "SxHGEnUaa5Uq"
      },
      "source": [
        "---"
      ]
    },
    {
      "cell_type": "markdown",
      "metadata": {
        "id": "GcGmE7iBLz59"
      },
      "source": [
        "## Click 2: Upload your image"
      ]
    },
    {
      "cell_type": "code",
      "execution_count": null,
      "metadata": {
        "colab": {
          "base_uri": "https://localhost:8080/",
          "height": 225
        },
        "id": "edxPUYqiMDrv",
        "outputId": "ddd24c73-1155-4357-dd13-f6052c4fd51d"
      },
      "outputs": [
        {
          "output_type": "stream",
          "name": "stdout",
          "text": [
            "/content\n"
          ]
        },
        {
          "output_type": "display_data",
          "data": {
            "text/plain": [
              "<IPython.core.display.HTML object>"
            ],
            "text/html": [
              "\n",
              "     <input type=\"file\" id=\"files-7883bdf6-8b0a-463b-84b8-b3f037f37232\" name=\"files[]\" multiple disabled\n",
              "        style=\"border:none\" />\n",
              "     <output id=\"result-7883bdf6-8b0a-463b-84b8-b3f037f37232\">\n",
              "      Upload widget is only available when the cell has been executed in the\n",
              "      current browser session. Please rerun this cell to enable.\n",
              "      </output>\n",
              "      <script>// Copyright 2017 Google LLC\n",
              "//\n",
              "// Licensed under the Apache License, Version 2.0 (the \"License\");\n",
              "// you may not use this file except in compliance with the License.\n",
              "// You may obtain a copy of the License at\n",
              "//\n",
              "//      http://www.apache.org/licenses/LICENSE-2.0\n",
              "//\n",
              "// Unless required by applicable law or agreed to in writing, software\n",
              "// distributed under the License is distributed on an \"AS IS\" BASIS,\n",
              "// WITHOUT WARRANTIES OR CONDITIONS OF ANY KIND, either express or implied.\n",
              "// See the License for the specific language governing permissions and\n",
              "// limitations under the License.\n",
              "\n",
              "/**\n",
              " * @fileoverview Helpers for google.colab Python module.\n",
              " */\n",
              "(function(scope) {\n",
              "function span(text, styleAttributes = {}) {\n",
              "  const element = document.createElement('span');\n",
              "  element.textContent = text;\n",
              "  for (const key of Object.keys(styleAttributes)) {\n",
              "    element.style[key] = styleAttributes[key];\n",
              "  }\n",
              "  return element;\n",
              "}\n",
              "\n",
              "// Max number of bytes which will be uploaded at a time.\n",
              "const MAX_PAYLOAD_SIZE = 100 * 1024;\n",
              "\n",
              "function _uploadFiles(inputId, outputId) {\n",
              "  const steps = uploadFilesStep(inputId, outputId);\n",
              "  const outputElement = document.getElementById(outputId);\n",
              "  // Cache steps on the outputElement to make it available for the next call\n",
              "  // to uploadFilesContinue from Python.\n",
              "  outputElement.steps = steps;\n",
              "\n",
              "  return _uploadFilesContinue(outputId);\n",
              "}\n",
              "\n",
              "// This is roughly an async generator (not supported in the browser yet),\n",
              "// where there are multiple asynchronous steps and the Python side is going\n",
              "// to poll for completion of each step.\n",
              "// This uses a Promise to block the python side on completion of each step,\n",
              "// then passes the result of the previous step as the input to the next step.\n",
              "function _uploadFilesContinue(outputId) {\n",
              "  const outputElement = document.getElementById(outputId);\n",
              "  const steps = outputElement.steps;\n",
              "\n",
              "  const next = steps.next(outputElement.lastPromiseValue);\n",
              "  return Promise.resolve(next.value.promise).then((value) => {\n",
              "    // Cache the last promise value to make it available to the next\n",
              "    // step of the generator.\n",
              "    outputElement.lastPromiseValue = value;\n",
              "    return next.value.response;\n",
              "  });\n",
              "}\n",
              "\n",
              "/**\n",
              " * Generator function which is called between each async step of the upload\n",
              " * process.\n",
              " * @param {string} inputId Element ID of the input file picker element.\n",
              " * @param {string} outputId Element ID of the output display.\n",
              " * @return {!Iterable<!Object>} Iterable of next steps.\n",
              " */\n",
              "function* uploadFilesStep(inputId, outputId) {\n",
              "  const inputElement = document.getElementById(inputId);\n",
              "  inputElement.disabled = false;\n",
              "\n",
              "  const outputElement = document.getElementById(outputId);\n",
              "  outputElement.innerHTML = '';\n",
              "\n",
              "  const pickedPromise = new Promise((resolve) => {\n",
              "    inputElement.addEventListener('change', (e) => {\n",
              "      resolve(e.target.files);\n",
              "    });\n",
              "  });\n",
              "\n",
              "  const cancel = document.createElement('button');\n",
              "  inputElement.parentElement.appendChild(cancel);\n",
              "  cancel.textContent = 'Cancel upload';\n",
              "  const cancelPromise = new Promise((resolve) => {\n",
              "    cancel.onclick = () => {\n",
              "      resolve(null);\n",
              "    };\n",
              "  });\n",
              "\n",
              "  // Wait for the user to pick the files.\n",
              "  const files = yield {\n",
              "    promise: Promise.race([pickedPromise, cancelPromise]),\n",
              "    response: {\n",
              "      action: 'starting',\n",
              "    }\n",
              "  };\n",
              "\n",
              "  cancel.remove();\n",
              "\n",
              "  // Disable the input element since further picks are not allowed.\n",
              "  inputElement.disabled = true;\n",
              "\n",
              "  if (!files) {\n",
              "    return {\n",
              "      response: {\n",
              "        action: 'complete',\n",
              "      }\n",
              "    };\n",
              "  }\n",
              "\n",
              "  for (const file of files) {\n",
              "    const li = document.createElement('li');\n",
              "    li.append(span(file.name, {fontWeight: 'bold'}));\n",
              "    li.append(span(\n",
              "        `(${file.type || 'n/a'}) - ${file.size} bytes, ` +\n",
              "        `last modified: ${\n",
              "            file.lastModifiedDate ? file.lastModifiedDate.toLocaleDateString() :\n",
              "                                    'n/a'} - `));\n",
              "    const percent = span('0% done');\n",
              "    li.appendChild(percent);\n",
              "\n",
              "    outputElement.appendChild(li);\n",
              "\n",
              "    const fileDataPromise = new Promise((resolve) => {\n",
              "      const reader = new FileReader();\n",
              "      reader.onload = (e) => {\n",
              "        resolve(e.target.result);\n",
              "      };\n",
              "      reader.readAsArrayBuffer(file);\n",
              "    });\n",
              "    // Wait for the data to be ready.\n",
              "    let fileData = yield {\n",
              "      promise: fileDataPromise,\n",
              "      response: {\n",
              "        action: 'continue',\n",
              "      }\n",
              "    };\n",
              "\n",
              "    // Use a chunked sending to avoid message size limits. See b/62115660.\n",
              "    let position = 0;\n",
              "    do {\n",
              "      const length = Math.min(fileData.byteLength - position, MAX_PAYLOAD_SIZE);\n",
              "      const chunk = new Uint8Array(fileData, position, length);\n",
              "      position += length;\n",
              "\n",
              "      const base64 = btoa(String.fromCharCode.apply(null, chunk));\n",
              "      yield {\n",
              "        response: {\n",
              "          action: 'append',\n",
              "          file: file.name,\n",
              "          data: base64,\n",
              "        },\n",
              "      };\n",
              "\n",
              "      let percentDone = fileData.byteLength === 0 ?\n",
              "          100 :\n",
              "          Math.round((position / fileData.byteLength) * 100);\n",
              "      percent.textContent = `${percentDone}% done`;\n",
              "\n",
              "    } while (position < fileData.byteLength);\n",
              "  }\n",
              "\n",
              "  // All done.\n",
              "  yield {\n",
              "    response: {\n",
              "      action: 'complete',\n",
              "    }\n",
              "  };\n",
              "}\n",
              "\n",
              "scope.google = scope.google || {};\n",
              "scope.google.colab = scope.google.colab || {};\n",
              "scope.google.colab._files = {\n",
              "  _uploadFiles,\n",
              "  _uploadFilesContinue,\n",
              "};\n",
              "})(self);\n",
              "</script> "
            ]
          },
          "metadata": {}
        },
        {
          "output_type": "error",
          "ename": "IndexError",
          "evalue": "list index out of range",
          "traceback": [
            "\u001b[0;31m---------------------------------------------------------------------------\u001b[0m",
            "\u001b[0;31mIndexError\u001b[0m                                Traceback (most recent call last)",
            "\u001b[0;32m<ipython-input-11-f105a7564dc7>\u001b[0m in \u001b[0;36m<cell line: 0>\u001b[0;34m()\u001b[0m\n\u001b[1;32m      5\u001b[0m \u001b[0muploaded\u001b[0m \u001b[0;34m=\u001b[0m \u001b[0mfiles\u001b[0m\u001b[0;34m.\u001b[0m\u001b[0mupload\u001b[0m\u001b[0;34m(\u001b[0m\u001b[0;34m)\u001b[0m\u001b[0;34m\u001b[0m\u001b[0;34m\u001b[0m\u001b[0m\n\u001b[1;32m      6\u001b[0m \u001b[0;34m\u001b[0m\u001b[0m\n\u001b[0;32m----> 7\u001b[0;31m \u001b[0mimg\u001b[0m \u001b[0;34m=\u001b[0m \u001b[0mSETUP_DIR\u001b[0m \u001b[0;34m+\u001b[0m \u001b[0mlist\u001b[0m\u001b[0;34m(\u001b[0m\u001b[0muploaded\u001b[0m\u001b[0;34m.\u001b[0m\u001b[0mkeys\u001b[0m\u001b[0;34m(\u001b[0m\u001b[0;34m)\u001b[0m\u001b[0;34m)\u001b[0m\u001b[0;34m[\u001b[0m\u001b[0;36m0\u001b[0m\u001b[0;34m]\u001b[0m\u001b[0;34m\u001b[0m\u001b[0;34m\u001b[0m\u001b[0m\n\u001b[0m",
            "\u001b[0;31mIndexError\u001b[0m: list index out of range"
          ]
        }
      ],
      "source": [
        "#@title Click the run button to upload your T1-weighted MRI image (will be deleted after the session is over; make sure you have the permissions to do this for the image in question).\n",
        "%cd \"{SETUP_DIR}\"\n",
        "\n",
        "from google.colab import files\n",
        "uploaded = files.upload()\n",
        "\n",
        "img = SETUP_DIR + list(uploaded.keys())[0]"
      ]
    },
    {
      "cell_type": "code",
      "source": [
        "from google.colab import drive\n",
        "drive.mount('/content/drive')"
      ],
      "metadata": {
        "colab": {
          "base_uri": "https://localhost:8080/"
        },
        "id": "BlD77laZC7EH",
        "outputId": "2274c227-4208-48cc-f03b-f326fa2d6cf2"
      },
      "execution_count": null,
      "outputs": [
        {
          "output_type": "stream",
          "name": "stdout",
          "text": [
            "Drive already mounted at /content/drive; to attempt to forcibly remount, call drive.mount(\"/content/drive\", force_remount=True).\n"
          ]
        }
      ]
    },
    {
      "cell_type": "code",
      "source": [
        "os.listdir('/content')"
      ],
      "metadata": {
        "colab": {
          "base_uri": "https://localhost:8080/"
        },
        "id": "IDErFrydCzo-",
        "outputId": "56b5d363-fd4e-4d38-95b7-ae49dfa7e70a"
      },
      "execution_count": null,
      "outputs": [
        {
          "output_type": "execute_result",
          "data": {
            "text/plain": [
              "['.config',\n",
              " 'drive',\n",
              " 'fastsurfer',\n",
              " 'gt_axial.npy',\n",
              " 'lr_axial.npy',\n",
              " 'fastsurfer_seg',\n",
              " 'gt_axial.nii.gz',\n",
              " 'pred_axial.npy',\n",
              " 'sample_data']"
            ]
          },
          "metadata": {},
          "execution_count": 13
        }
      ]
    },
    {
      "cell_type": "code",
      "execution_count": 14,
      "metadata": {
        "id": "IBSu6cpDa5Uu",
        "colab": {
          "base_uri": "https://localhost:8080/"
        },
        "outputId": "c782004c-9cb6-4f41-8b2b-7e0143663f47"
      },
      "outputs": [
        {
          "output_type": "stream",
          "name": "stdout",
          "text": [
            "(256, 256, 256)\n"
          ]
        }
      ],
      "source": [
        "#@title Alternative: If run locally, specify the path to a local image here\n",
        "import nibabel as nib\n",
        "import numpy as np\n",
        "\n",
        "def cube(data):\n",
        "  hyp = data\n",
        "  if len(hyp.shape)>3:\n",
        "    hyp = hyp[:,:,2:258, 27:283]\n",
        "  else:\n",
        "    hyp = hyp[2:258, 27:283, :256]\n",
        "  return hyp\n",
        "\n",
        "npy_file_path = '/content/gt_axial.npy'\n",
        "data = np.load(npy_file_path)[:,0]\n",
        "# data2 = np.load(npy_file_path.replace('pred','gt'))\n",
        "\n",
        "# data[:80] = data2[:80]\n",
        "# data[-100] = data2[-100]\n",
        "#data[data > data2.max()] = data2.max()\n",
        "print(data.shape)\n",
        "\n",
        "# Create a NIfTI image from the numpy array\n",
        "nifti_img = nib.Nifti1Image(data, np.eye(4))\n",
        "\n",
        "# Save the NIfTI image to a new file\n",
        "nifti_file_path = npy_file_path.replace('.npy', '.nii.gz')\n",
        "nib.save(nifti_img, nifti_file_path)\n",
        "\n",
        "# img = nib.load(\"/content/result_2downT1000volume_inf.npy\")\n",
        "# affine = img.affine\n",
        "# img = cube(img.get_fdata())\n",
        "# img.shape"
      ]
    },
    {
      "cell_type": "code",
      "source": [
        "import matplotlib.pyplot as plt\n",
        "img_viz = nib.load(nifti_file_path).get_fdata()\n",
        "# npy_file_path = '/content/pred_volume_119732.npy'\n",
        "# data = np.load(npy_file_path)\n",
        "# data2 = np.load(npy_file_path.replace('pred','gt'))\n",
        "# data[data > data2.max()] = data2.max()\n",
        "# print(data.shape, data.min(), data.max())\n",
        "\n",
        "idx = 70\n",
        "\n",
        "plt.imshow(img_viz[:,:,idx],cmap='gray')"
      ],
      "metadata": {
        "colab": {
          "base_uri": "https://localhost:8080/",
          "height": 453
        },
        "id": "CluFJcGqLdcC",
        "outputId": "0b7fb222-059c-45aa-89e8-bc425687a4ce"
      },
      "execution_count": 15,
      "outputs": [
        {
          "output_type": "execute_result",
          "data": {
            "text/plain": [
              "<matplotlib.image.AxesImage at 0x78b32ddfb4d0>"
            ]
          },
          "metadata": {},
          "execution_count": 15
        },
        {
          "output_type": "display_data",
          "data": {
            "text/plain": [
              "<Figure size 640x480 with 1 Axes>"
            ],
            "image/png": "[encoded data removed]"
          },
          "metadata": {}
        }
      ]
    },
    {
      "cell_type": "code",
      "execution_count": null,
      "metadata": {
        "id": "tqWTSvykIE1j"
      },
      "outputs": [],
      "source": [
        "# img = \"/content/brain.nii.gz\"\n",
        "img = \"/content/gt_axial.nii.gz\""
      ]
    },
    {
      "cell_type": "code",
      "execution_count": null,
      "metadata": {
        "cellView": "form",
        "colab": {
          "base_uri": "https://localhost:8080/"
        },
        "id": "P5p02zyMTwRV",
        "outputId": "f9a9fd9a-8c89-46ac-e9e9-aa2754483583"
      },
      "outputs": [
        {
          "name": "stdout",
          "output_type": "stream",
          "text": [
            "  % Total    % Received % Xferd  Average Speed   Time    Time     Time  Current\n",
            "                                 Dload  Upload   Total   Spent    Left  Speed\n",
            "100 4664k  100 4664k    0     0  1399k      0  0:00:03  0:00:03 --:--:-- 1399k\n"
          ]
        }
      ],
      "source": [
        "#@title Alternative: Click the run button to download an example subject from the internet (e.g. FreeSurfer Tutorial data)\n",
        "!curl -k https://surfer.nmr.mgh.harvard.edu/pub/data/tutorial_data/buckner_data/tutorial_subjs/140/mri/orig.mgz -o \"{SETUP_DIR}140_orig.mgz\"\n",
        "img = f\"{SETUP_DIR}140_orig.mgz\""
      ]
    },
    {
      "cell_type": "code",
      "execution_count": null,
      "metadata": {
        "id": "ua41HJbNHJMA"
      },
      "outputs": [],
      "source": []
    },
    {
      "cell_type": "markdown",
      "metadata": {
        "id": "PjihO9dTWSG3"
      },
      "source": [
        "---"
      ]
    },
    {
      "cell_type": "markdown",
      "metadata": {
        "id": "IGWHO-pyKwyA"
      },
      "source": [
        "## Click 3: Run FastSurfer"
      ]
    },
    {
      "cell_type": "code",
      "execution_count": null,
      "metadata": {
        "colab": {
          "base_uri": "https://localhost:8080/"
        },
        "id": "mdlGATV2obQY",
        "outputId": "a7ce58f5-240d-4283-837f-a12400256159"
      },
      "outputs": [
        {
          "output_type": "stream",
          "name": "stdout",
          "text": [
            "time command failing, not using time...\n",
            "INFO: The subject directory did not exist, creating it now.\n",
            "=========================================================\n",
            "Start of the log for a new run_fastsurfer.sh invocation\n",
            "=========================================================\n",
            "Version: 2.4.0+35261b3\n",
            "Fri Feb 14 04:51:17 PM UTC 2025\n",
            "\n",
            "Log file for FastSurfer pipeline, run_fastsurfer.sh and segmentation(s)\n",
            "python3 /content/fastsurfer//FastSurferCNN/run_prediction.py --t1 /content/gt_axial.nii.gz --asegdkt_segfile /content/fastsurfer_seg/Tutorial/mri/aparc.DKTatlas+aseg.deep.mgz --conformed_name /content/fastsurfer_seg/Tutorial/mri/orig.mgz --brainmask_name /content/fastsurfer_seg/Tutorial/mri/mask.mgz --aseg_name /content/fastsurfer_seg/Tutorial/mri/aseg.auto_noCCseg.mgz --sid Tutorial --seg_log /content/fastsurfer_seg/Tutorial/scripts/deep-seg.log --vox_size min --batch_size 1 --viewagg_device auto --device auto --threads 1 --sd /content/fastsurfer_seg\n",
            "[INFO: run_prediction.py:  647]: Checking or downloading default checkpoints ...\n",
            "[INFO: checkpoint.py:  354]: Downloading checkpoint aparc_vinn_axial_v2.0.0.pkl from https://zenodo.org/records/10390573/files\n",
            "[INFO: checkpoint.py:  354]: Downloading checkpoint aparc_vinn_coronal_v2.0.0.pkl from https://zenodo.org/records/10390573/files\n",
            "[INFO: checkpoint.py:  354]: Downloading checkpoint aparc_vinn_sagittal_v2.0.0.pkl from https://zenodo.org/records/10390573/files\n",
            "[INFO: common.py:  820]: Single subject with absolute file path for input.\n",
            "[INFO: common.py:  878]: Analyzing single subject /content/gt_axial.nii.gz\n",
            "[INFO: common.py:  979]: Output will be stored in Subjects Directory: /content/fastsurfer_seg\n",
            "[INFO: common.py:  106]: Using device: cuda\n",
            "[INFO: common.py:  106]: Using viewagg_device: cuda\n",
            "[INFO: run_prediction.py:  245]: Running view aggregation on cuda\n",
            "[INFO: inference.py:  200]: Loading checkpoint /content/fastsurfer/checkpoints/aparc_vinn_coronal_v2.0.0.pkl\n",
            "[INFO: inference.py:  200]: Loading checkpoint /content/fastsurfer/checkpoints/aparc_vinn_sagittal_v2.0.0.pkl\n",
            "[INFO: inference.py:  200]: Loading checkpoint /content/fastsurfer/checkpoints/aparc_vinn_axial_v2.0.0.pkl\n",
            "[INFO: run_prediction.py:  324]: Successfully loaded image from /content/gt_axial.nii.gz.\n",
            "[INFO: run_prediction.py:  441]: Output image directory /content/fastsurfer_seg/Tutorial/mri/orig does not exist. Creating it now...\n",
            "[INFO: run_prediction.py:  454]: Successfully saved image   as /content/fastsurfer_seg/Tutorial/mri/orig/001.mgz.\n",
            "[INFO: conform.py:  824]: The input image is not conformed.\n",
            "[INFO: conform.py:  827]: A min-conformedconformed image must satisfy the following criteria:\n",
            "[INFO: conform.py:  829]:  - Number of Dimensions 3        : True\n",
            "[INFO: conform.py:  829]:  - Dimensions 256x256x256        : True\n",
            "[INFO: conform.py:  829]:  - Voxel Size 1.0x1.0x1.0        : True\n",
            "[INFO: conform.py:  829]:  - Orientation LIA               : BUT strict: [[1. 0. 0.] [0. 1. 0.] [0. 0. 1.]]\n",
            "[INFO: conform.py:  829]:  - Dtype uint8                   : BUT dtype float64\n",
            "[INFO: run_prediction.py:  337]: Conforming image\n",
            "(1.0, 1.0, 1.0)\n",
            "Input:    min: 0.0  max: 1.2223645448684692\n",
            "rescale:  min: 0.0  max: 0.497502369761467  scale: 512.5603725712152\n",
            "Output:   min: 0.0  max: 255.0\n",
            "[INFO: run_prediction.py:  454]: Successfully saved image   as /content/fastsurfer_seg/Tutorial/mri/orig.mgz.\n",
            "[INFO: run_prediction.py:  400]: Run coronal prediction\n",
            "[INFO: dataset.py:   78]: Loading Coronal with input voxelsize (1.0, 1.0)\n",
            "100% 256/256 [00:08<00:00, 30.99batch/s]\n",
            "[INFO: inference.py:  408]: Inference on 256 batches for coronal successful\n",
            "[INFO: inference.py:  469]: Coronal inference on /content/gt_axial.nii.gz finished in 8.2691 seconds\n",
            "[INFO: run_prediction.py:  400]: Run sagittal prediction\n",
            "[INFO: dataset.py:   69]: Loading Sagittal with input voxelsize (1.0, 1.0)\n",
            "100% 256/256 [00:08<00:00, 31.08batch/s]\n",
            "[INFO: inference.py:  408]: Inference on 256 batches for sagittal successful\n",
            "[INFO: inference.py:  469]: Sagittal inference on /content/gt_axial.nii.gz finished in 8.2396 seconds\n",
            "[INFO: run_prediction.py:  400]: Run axial prediction\n",
            "[INFO: dataset.py:   74]: Loading Axial with input voxelsize (1.0, 1.0)\n",
            "100% 256/256 [00:07<00:00, 32.13batch/s]\n",
            "[INFO: inference.py:  408]: Inference on 256 batches for axial successful\n",
            "[INFO: inference.py:  469]: Axial inference on /content/gt_axial.nii.gz finished in 7.9694 seconds\n",
            "[INFO: run_prediction.py:  454]: Successfully saved image   as /content/fastsurfer_seg/Tutorial/mri/aparc.DKTatlas+aseg.deep.mgz.\n",
            "[INFO: run_prediction.py:  724]: Creating brainmask based on segmentation...\n",
            "Creating dilated mask ...\n",
            "Frontal region special treatment:  3362\n",
            "  Found 4 connected component(s)!\n",
            "  Selecting largest component!\n",
            "[INFO: run_prediction.py:  454]: Successfully saved image   as /content/fastsurfer_seg/Tutorial/mri/mask.mgz.\n",
            "[INFO: run_prediction.py:  743]: Creating aseg based on segmentation...\n",
            "Reducing to aseg ...\n",
            "FlipWM: rh 2547 and lh 9106 flipped.\n",
            "[INFO: run_prediction.py:  454]: Successfully saved image   as /content/fastsurfer_seg/Tutorial/mri/aseg.auto_noCCseg.mgz.\n",
            "[INFO: run_prediction.py:  762]: Running volume-based QC check on segmentation...\n",
            "Checking total volume ...\n",
            "Voxel size in mm3: 1.0\n",
            "Total segmentation volume in liter: 1.56\n",
            "INFO: Running N4 bias-field correction...\n",
            "python3 /content/fastsurfer//recon_surf/N4_bias_correct.py --in /content/fastsurfer_seg/Tutorial/mri/orig.mgz --rescale /content/fastsurfer_seg/Tutorial/mri/orig_nu.mgz --aseg /content/fastsurfer_seg/Tutorial/mri/aseg.auto_noCCseg.mgz --threads 1\n",
            "\n",
            "N4 Bias Correction Parameters:\n",
            "\n",
            "- verbosity: -1\n",
            "- input volume: /content/fastsurfer_seg/Tutorial/mri/orig.mgz\n",
            "- output volume: do not save\n",
            "- rescaled volume: /content/fastsurfer_seg/Tutorial/mri/orig_nu.mgz\n",
            "- mask: default (>0)\n",
            "- aseg: /content/fastsurfer_seg/Tutorial/mri/aseg.auto_noCCseg.mgz\n",
            "- shrink factor: 4\n",
            "- number fitting levels: 4\n",
            "- number iterations: 50\n",
            "- convergence threshold: 0.0\n",
            "- threads: 1\n",
            "read MGZ (FreeSurfer) image via nibabel...\n",
            "executing N4 correction ...\n",
            "- mask: ones (default)\n",
            "normalize WM to 105.0 (find WM from aseg)\n",
            "read MGZ (FreeSurfer) image via nibabel...\n",
            "- source white matter intensity: 229.88\n",
            "- m: 0.4437\n",
            "converting rescaled to UCHAR\n",
            "writing PosixPath: /content/fastsurfer_seg/Tutorial/mri/orig_nu.mgz\n",
            "write MGZ (FreeSurfer) image via nibabel...\n",
            "python3 /content/fastsurfer//FastSurferCNN/segstats.py --segfile /content/fastsurfer_seg/Tutorial/mri/aparc.DKTatlas+aseg.deep.mgz --segstatsfile /content/fastsurfer_seg/Tutorial/stats/aseg+DKT.stats --normfile /content/fastsurfer_seg/Tutorial/mri/orig_nu.mgz --threads 1 --empty --excludeid 0 --sd /content/fastsurfer_seg --sid Tutorial --ids 2 4 5 7 8 10 11 12 13 14 15 16 17 18 24 26 28 31 41 43 44 46 47 49 50 51 52 53 54 58 60 63 77 251 252 253 254 255 1002 1003 1005 1006 1007 1008 1009 1010 1011 1012 1013 1014 1015 1016 1017 1018 1019 1020 1021 1022 1023 1024 1025 1026 1027 1028 1029 1030 1031 1034 1035 2002 2003 2005 2006 2007 2008 2009 2010 2011 2012 2013 2014 2015 2016 2017 2018 2019 2020 2021 2022 2023 2024 2025 2026 2027 2028 2029 2030 2031 2034 2035 --lut /content/fastsurfer//FastSurferCNN/config/FreeSurferColorLUT.txt measures --compute Mask(/content/fastsurfer_seg/Tutorial/mri/mask.mgz) BrainSeg BrainSegNotVent SupraTentorial SupraTentorialNotVent SubCortGray rhCerebralWhiteMatter lhCerebralWhiteMatter CerebralWhiteMatter\n",
            "Traceback (most recent call last):\n",
            "  File \"/content/fastsurfer//FastSurferCNN/segstats.py\", line 2503, in <module>\n",
            "    sys.exit(main(opts))\n",
            "             ^^^^^^^^^^\n",
            "  File \"/content/fastsurfer//FastSurferCNN/segstats.py\", line 902, in main\n",
            "    out = pv_calc(seg_data, pv_data, norm_data, labels, return_maps=save_maps, **kwargs)\n",
            "          ^^^^^^^^^^^^^^^^^^^^^^^^^^^^^^^^^^^^^^^^^^^^^^^^^^^^^^^^^^^^^^^^^^^^^^^^^^^^^^\n",
            "  File \"/content/fastsurfer//FastSurferCNN/segstats.py\", line 1868, in pv_calc\n",
            "    stds = {lab: get_std(lab, nvox) for lab, nvox in robust_vc_it if nvox > eps}\n",
            "           ^^^^^^^^^^^^^^^^^^^^^^^^^^^^^^^^^^^^^^^^^^^^^^^^^^^^^^^^^^^^^^^^^^^^^\n",
            "  File \"/content/fastsurfer//FastSurferCNN/segstats.py\", line 1868, in <dictcomp>\n",
            "    stds = {lab: get_std(lab, nvox) for lab, nvox in robust_vc_it if nvox > eps}\n",
            "                 ^^^^^^^^^^^^^^^^^^\n",
            "  File \"/content/fastsurfer//FastSurferCNN/segstats.py\", line 1866, in get_std\n",
            "    return np.sqrt((sums_2[lab] - means[lab] * sums[lab]) / (nvox - 1))\n",
            "                   ~~~~~~~~~~~~~~~~~~~~~~~~~~~~~~~~~~~~~~~^~~~~~~~~~~~\n",
            "ZeroDivisionError: float division by zero\n",
            "ERROR: asegdkt statsfile generation failed!\n"
          ]
        }
      ],
      "source": [
        "#@title The first part of FastSurfer creates a whole-brain segmentation into 95 classes. Here, we use the pretrained deep-learning network FastSurferCNN using the checkpoints stored at the open source project deep-mi/fastsurfer to to run the model inference on a single image.\n",
        "! FASTSURFER_HOME=$FASTSURFER_HOME \\\n",
        "  $FASTSURFER_HOME/run_fastsurfer.sh --t1 $img \\\n",
        "                                     --sd \"{SETUP_DIR}fastsurfer_seg\" \\\n",
        "                                     --sid Tutorial \\\n",
        "                                     --seg_only --py python3 \\\n",
        "                                     --allow_root"
      ]
    },
    {
      "cell_type": "markdown",
      "metadata": {
        "id": "BCHN3fO4WG4Y"
      },
      "source": [
        "---"
      ]
    },
    {
      "cell_type": "markdown",
      "metadata": {
        "id": "atsSiGULMrRb"
      },
      "source": [
        "## Click 4: Download the image"
      ]
    },
    {
      "cell_type": "code",
      "execution_count": null,
      "metadata": {
        "colab": {
          "base_uri": "https://localhost:8080/",
          "height": 314
        },
        "id": "Ga6ytECPLMlh",
        "outputId": "a6e23546-755f-403b-887d-181212b61ce4"
      },
      "outputs": [
        {
          "output_type": "error",
          "ename": "FileNotFoundError",
          "evalue": "Cannot find file: /content/fastsurfer_seg/Tutorial/mri/aparc.DKTatlas+aseg.deep.mgz",
          "traceback": [
            "\u001b[0;31m---------------------------------------------------------------------------\u001b[0m",
            "\u001b[0;31mFileNotFoundError\u001b[0m                         Traceback (most recent call last)",
            "\u001b[0;32m<ipython-input-2-a1736ee132b2>\u001b[0m in \u001b[0;36m<cell line: 0>\u001b[0;34m()\u001b[0m\n\u001b[1;32m      1\u001b[0m \u001b[0;31m#@title Click the run button to download the segmentation to a destination of your choice\u001b[0m\u001b[0;34m\u001b[0m\u001b[0;34m\u001b[0m\u001b[0m\n\u001b[1;32m      2\u001b[0m \u001b[0;32mfrom\u001b[0m \u001b[0mgoogle\u001b[0m\u001b[0;34m.\u001b[0m\u001b[0mcolab\u001b[0m \u001b[0;32mimport\u001b[0m \u001b[0mfiles\u001b[0m\u001b[0;34m\u001b[0m\u001b[0;34m\u001b[0m\u001b[0m\n\u001b[0;32m----> 3\u001b[0;31m \u001b[0mfiles\u001b[0m\u001b[0;34m.\u001b[0m\u001b[0mdownload\u001b[0m\u001b[0;34m(\u001b[0m\u001b[0;34mf'{SETUP_DIR}fastsurfer_seg/Tutorial/mri/aparc.DKTatlas+aseg.deep.mgz'\u001b[0m\u001b[0;34m)\u001b[0m\u001b[0;34m\u001b[0m\u001b[0;34m\u001b[0m\u001b[0m\n\u001b[0m",
            "\u001b[0;32m/usr/local/lib/python3.11/dist-packages/google/colab/files.py\u001b[0m in \u001b[0;36mdownload\u001b[0;34m(filename)\u001b[0m\n\u001b[1;32m    231\u001b[0m   \u001b[0;32mif\u001b[0m \u001b[0;32mnot\u001b[0m \u001b[0m_os\u001b[0m\u001b[0;34m.\u001b[0m\u001b[0mpath\u001b[0m\u001b[0;34m.\u001b[0m\u001b[0mexists\u001b[0m\u001b[0;34m(\u001b[0m\u001b[0mfilename\u001b[0m\u001b[0;34m)\u001b[0m\u001b[0;34m:\u001b[0m\u001b[0;34m\u001b[0m\u001b[0;34m\u001b[0m\u001b[0m\n\u001b[1;32m    232\u001b[0m     \u001b[0mmsg\u001b[0m \u001b[0;34m=\u001b[0m \u001b[0;34m'Cannot find file: {}'\u001b[0m\u001b[0;34m.\u001b[0m\u001b[0mformat\u001b[0m\u001b[0;34m(\u001b[0m\u001b[0mfilename\u001b[0m\u001b[0;34m)\u001b[0m\u001b[0;34m\u001b[0m\u001b[0;34m\u001b[0m\u001b[0m\n\u001b[0;32m--> 233\u001b[0;31m     \u001b[0;32mraise\u001b[0m \u001b[0mFileNotFoundError\u001b[0m\u001b[0;34m(\u001b[0m\u001b[0mmsg\u001b[0m\u001b[0;34m)\u001b[0m  \u001b[0;31m# pylint: disable=undefined-variable\u001b[0m\u001b[0;34m\u001b[0m\u001b[0;34m\u001b[0m\u001b[0m\n\u001b[0m\u001b[1;32m    234\u001b[0m \u001b[0;34m\u001b[0m\u001b[0m\n\u001b[1;32m    235\u001b[0m   \u001b[0mcomm_manager\u001b[0m \u001b[0;34m=\u001b[0m \u001b[0m_IPython\u001b[0m\u001b[0;34m.\u001b[0m\u001b[0mget_ipython\u001b[0m\u001b[0;34m(\u001b[0m\u001b[0;34m)\u001b[0m\u001b[0;34m.\u001b[0m\u001b[0mkernel\u001b[0m\u001b[0;34m.\u001b[0m\u001b[0mcomm_manager\u001b[0m\u001b[0;34m\u001b[0m\u001b[0;34m\u001b[0m\u001b[0m\n",
            "\u001b[0;31mFileNotFoundError\u001b[0m: Cannot find file: /content/fastsurfer_seg/Tutorial/mri/aparc.DKTatlas+aseg.deep.mgz"
          ]
        }
      ],
      "source": [
        "#@title Click the run button to download the segmentation to a destination of your choice\n",
        "from google.colab import files\n",
        "files.download(f'{SETUP_DIR}fastsurfer_seg/Tutorial/mri/aparc.DKTatlas+aseg.deep.mgz')"
      ]
    },
    {
      "cell_type": "code",
      "execution_count": null,
      "metadata": {
        "colab": {
          "base_uri": "https://localhost:8080/"
        },
        "id": "sskEX1fYa5Uz",
        "outputId": "f99b5d59-09f0-4403-fa47-79929e81d804"
      },
      "outputs": [
        {
          "name": "stdout",
          "output_type": "stream",
          "text": [
            "You will find the segmented file here: '/content/fastsurfer_seg/Tutorial/mri/aparc.DKTatlas+aseg.deep.mgz'\n"
          ]
        }
      ],
      "source": [
        "#@title If run locally, this prints the path to the segmented output file\n",
        "print(f\"You will find the segmented file here: '{SETUP_DIR}fastsurfer_seg/Tutorial/mri/aparc.DKTatlas+aseg.deep.mgz'\")"
      ]
    },
    {
      "cell_type": "code",
      "execution_count": null,
      "metadata": {
        "colab": {
          "base_uri": "https://localhost:8080/",
          "height": 17
        },
        "id": "-67gfCpL-WGB",
        "outputId": "8de02599-1309-43f3-e808-793d040721fe"
      },
      "outputs": [
        {
          "data": {
            "application/javascript": [
              "\n",
              "    async function download(id, filename, size) {\n",
              "      if (!google.colab.kernel.accessAllowed) {\n",
              "        return;\n",
              "      }\n",
              "      const div = document.createElement('div');\n",
              "      const label = document.createElement('label');\n",
              "      label.textContent = `Downloading \"${filename}\": `;\n",
              "      div.appendChild(label);\n",
              "      const progress = document.createElement('progress');\n",
              "      progress.max = size;\n",
              "      div.appendChild(progress);\n",
              "      document.body.appendChild(div);\n",
              "\n",
              "      const buffers = [];\n",
              "      let downloaded = 0;\n",
              "\n",
              "      const channel = await google.colab.kernel.comms.open(id);\n",
              "      // Send a message to notify the kernel that we're ready.\n",
              "      channel.send({})\n",
              "\n",
              "      for await (const message of channel.messages) {\n",
              "        // Send a message to notify the kernel that we're ready.\n",
              "        channel.send({})\n",
              "        if (message.buffers) {\n",
              "          for (const buffer of message.buffers) {\n",
              "            buffers.push(buffer);\n",
              "            downloaded += buffer.byteLength;\n",
              "            progress.value = downloaded;\n",
              "          }\n",
              "        }\n",
              "      }\n",
              "      const blob = new Blob(buffers, {type: 'application/binary'});\n",
              "      const a = document.createElement('a');\n",
              "      a.href = window.URL.createObjectURL(blob);\n",
              "      a.download = filename;\n",
              "      div.appendChild(a);\n",
              "      a.click();\n",
              "      div.remove();\n",
              "    }\n",
              "  "
            ],
            "text/plain": [
              "<IPython.core.display.Javascript object>"
            ]
          },
          "metadata": {},
          "output_type": "display_data"
        },
        {
          "data": {
            "application/javascript": [
              "download(\"download_25b0b39c-074e-44cb-b085-3767c22c6f4c\", \"aparc.DKTatlas+aseg.deep.nii.gz\", 1417633)"
            ],
            "text/plain": [
              "<IPython.core.display.Javascript object>"
            ]
          },
          "metadata": {},
          "output_type": "display_data"
        }
      ],
      "source": [
        "#@title Click this run button, if you would prefer to download the segmentation in nifti-format\n",
        "import nibabel as nib\n",
        "# conversion to nifti\n",
        "data = nib.load(f'{SETUP_DIR}fastsurfer_seg/Tutorial/mri/aparc.DKTatlas+aseg.deep.mgz')\n",
        "img_nifti = nib.Nifti1Image(data.get_fdata(), data.affine, header=nib.Nifti1Header())\n",
        "nib.nifti1.save(img_nifti, f'{SETUP_DIR}fastsurfer_seg/Tutorial/mri/aparc.DKTatlas+aseg.deep.nii.gz')\n",
        "\n",
        "from google.colab import files\n",
        "files.download(f'{SETUP_DIR}fastsurfer_seg/Tutorial/mri/aparc.DKTatlas+aseg.deep.nii.gz')\n"
      ]
    },
    {
      "cell_type": "code",
      "execution_count": null,
      "metadata": {
        "colab": {
          "base_uri": "https://localhost:8080/",
          "height": 17
        },
        "id": "KNvE54R0U5lA",
        "outputId": "a6bef8ba-d231-4a5d-826f-67373b92d6e4"
      },
      "outputs": [
        {
          "data": {
            "application/javascript": [
              "\n",
              "    async function download(id, filename, size) {\n",
              "      if (!google.colab.kernel.accessAllowed) {\n",
              "        return;\n",
              "      }\n",
              "      const div = document.createElement('div');\n",
              "      const label = document.createElement('label');\n",
              "      label.textContent = `Downloading \"${filename}\": `;\n",
              "      div.appendChild(label);\n",
              "      const progress = document.createElement('progress');\n",
              "      progress.max = size;\n",
              "      div.appendChild(progress);\n",
              "      document.body.appendChild(div);\n",
              "\n",
              "      const buffers = [];\n",
              "      let downloaded = 0;\n",
              "\n",
              "      const channel = await google.colab.kernel.comms.open(id);\n",
              "      // Send a message to notify the kernel that we're ready.\n",
              "      channel.send({})\n",
              "\n",
              "      for await (const message of channel.messages) {\n",
              "        // Send a message to notify the kernel that we're ready.\n",
              "        channel.send({})\n",
              "        if (message.buffers) {\n",
              "          for (const buffer of message.buffers) {\n",
              "            buffers.push(buffer);\n",
              "            downloaded += buffer.byteLength;\n",
              "            progress.value = downloaded;\n",
              "          }\n",
              "        }\n",
              "      }\n",
              "      const blob = new Blob(buffers, {type: 'application/binary'});\n",
              "      const a = document.createElement('a');\n",
              "      a.href = window.URL.createObjectURL(blob);\n",
              "      a.download = filename;\n",
              "      div.appendChild(a);\n",
              "      a.click();\n",
              "      div.remove();\n",
              "    }\n",
              "  "
            ],
            "text/plain": [
              "<IPython.core.display.Javascript object>"
            ]
          },
          "metadata": {},
          "output_type": "display_data"
        },
        {
          "data": {
            "application/javascript": [
              "download(\"download_cac7ac69-b56c-4a7b-9901-e46c9411d52a\", \"140_orig.mgz\", 4775937)"
            ],
            "text/plain": [
              "<IPython.core.display.Javascript object>"
            ]
          },
          "metadata": {},
          "output_type": "display_data"
        }
      ],
      "source": [
        "#@title If you chose the example subject (Alternative in Click 1), click the run button if you want to download the input image as well\n",
        "from google.colab import files\n",
        "files.download(f\"{SETUP_DIR}140_orig.mgz\")"
      ]
    },
    {
      "cell_type": "code",
      "execution_count": null,
      "metadata": {
        "colab": {
          "base_uri": "https://localhost:8080/",
          "height": 17
        },
        "id": "8_JvDhAf_YMh",
        "outputId": "aab3a6bd-b1c9-4cfe-8bac-98ecc9371756"
      },
      "outputs": [
        {
          "data": {
            "application/javascript": [
              "\n",
              "    async function download(id, filename, size) {\n",
              "      if (!google.colab.kernel.accessAllowed) {\n",
              "        return;\n",
              "      }\n",
              "      const div = document.createElement('div');\n",
              "      const label = document.createElement('label');\n",
              "      label.textContent = `Downloading \"${filename}\": `;\n",
              "      div.appendChild(label);\n",
              "      const progress = document.createElement('progress');\n",
              "      progress.max = size;\n",
              "      div.appendChild(progress);\n",
              "      document.body.appendChild(div);\n",
              "\n",
              "      const buffers = [];\n",
              "      let downloaded = 0;\n",
              "\n",
              "      const channel = await google.colab.kernel.comms.open(id);\n",
              "      // Send a message to notify the kernel that we're ready.\n",
              "      channel.send({})\n",
              "\n",
              "      for await (const message of channel.messages) {\n",
              "        // Send a message to notify the kernel that we're ready.\n",
              "        channel.send({})\n",
              "        if (message.buffers) {\n",
              "          for (const buffer of message.buffers) {\n",
              "            buffers.push(buffer);\n",
              "            downloaded += buffer.byteLength;\n",
              "            progress.value = downloaded;\n",
              "          }\n",
              "        }\n",
              "      }\n",
              "      const blob = new Blob(buffers, {type: 'application/binary'});\n",
              "      const a = document.createElement('a');\n",
              "      a.href = window.URL.createObjectURL(blob);\n",
              "      a.download = filename;\n",
              "      div.appendChild(a);\n",
              "      a.click();\n",
              "      div.remove();\n",
              "    }\n",
              "  "
            ],
            "text/plain": [
              "<IPython.core.display.Javascript object>"
            ]
          },
          "metadata": {},
          "output_type": "display_data"
        },
        {
          "data": {
            "application/javascript": [
              "download(\"download_dfd89827-9e93-4825-ab18-74e7753300b3\", \"140_orig.nii.gz\", 8260732)"
            ],
            "text/plain": [
              "<IPython.core.display.Javascript object>"
            ]
          },
          "metadata": {},
          "output_type": "display_data"
        }
      ],
      "source": [
        "#@title Click this run button, if you would prefer to download the image in nifti-format\n",
        "import nibabel as nib\n",
        "# conversion to nifti\n",
        "data = nib.load(f\"{SETUP_DIR}140_orig.mgz\")\n",
        "img_nifti = nib.Nifti1Image(data.get_fdata(), data.affine, header=nib.Nifti1Header())\n",
        "nib.nifti1.save(img_nifti, f\"{SETUP_DIR}140_orig.nii.gz\")\n",
        "\n",
        "from google.colab import files\n",
        "files.download(f\"{SETUP_DIR}140_orig.nii.gz\")\n"
      ]
    },
    {
      "cell_type": "markdown",
      "metadata": {
        "id": "K1579KOxWMv0"
      },
      "source": [
        "---"
      ]
    },
    {
      "cell_type": "markdown",
      "metadata": {
        "id": "ONJnESZLYLLa"
      },
      "source": [
        "## Done!\n",
        "\n",
        "Congratulations. You successfully segmented your image into 95 classes :). Now Let us have a look at the output."
      ]
    },
    {
      "cell_type": "markdown",
      "metadata": {
        "id": "4MmE9rTgsV0W"
      },
      "source": [
        "### Inspect the results\n",
        "\n",
        "You can use the neuroimaging viewer of your choice. As an example, in Freeview you could visualize the segmentations and input image like this:\n",
        "\n",
        "```bash\n",
        "# If you have not done this yet: export and source FreeSurfer\n",
        "export FREESURFER_HOME=/path/to/your/FreeSurfer_install\n",
        "source $FREESURFER_HOME/SetUpFreeSurfer.sh\n",
        "\n",
        "# Define your input image (the one you uploaded above)\n",
        "input=/FastSurfer/Tutorial/data/140_orig.mgz\n",
        "\n",
        "# Define where you stored the output\n",
        "output=/FastSurfer/Tutorial/output/aparc.DKTatlas+aseg.deep.mgz\n",
        "\n",
        "# Freeview command\n",
        "freeview -v $input \\\n",
        "         -v $output:colormap=lut\n",
        "```"
      ]
    },
    {
      "cell_type": "markdown",
      "metadata": {
        "id": "hcd6B6h0_xpu"
      },
      "source": [
        "Or plot some slices and 3D measures here:"
      ]
    },
    {
      "cell_type": "code",
      "execution_count": null,
      "metadata": {
        "id": "voHPABgZ_w3X"
      },
      "outputs": [],
      "source": [
        "#@title Plot some slices from the segmented brain\n",
        "%matplotlib inline\n",
        "import nibabel as nib\n",
        "import matplotlib.pyplot as plt\n",
        "plt.style.use('seaborn-v0_8-whitegrid')\n",
        "from skimage import color\n",
        "import torch\n",
        "import numpy as np\n",
        "from torchvision import utils\n",
        "\n",
        "def plot_predictions(image, pred):\n",
        "    \"\"\"\n",
        "    Function to plot predictions from validation set.\n",
        "    :param images_batch:\n",
        "    :param labels_batch:\n",
        "    :param batch_output:\n",
        "    :param plt_title:\n",
        "    :param file_save_name:\n",
        "    :return:\n",
        "    \"\"\"\n",
        "\n",
        "    f = plt.figure(figsize=(20, 20))\n",
        "    n, h, w = image.shape\n",
        "\n",
        "    mid_slice = n // 2\n",
        "    image = torch.from_numpy(np.expand_dims(image[mid_slice+16:mid_slice+32, :, :], 1))\n",
        "    grid = utils.make_grid(image, nrow=4)\n",
        "\n",
        "    plt.subplot(311)\n",
        "    plt.imshow(grid.numpy().transpose((1, 2, 0)))\n",
        "    plt.title('Slices')\n",
        "\n",
        "    grid2 = utils.make_grid(torch.from_numpy(np.expand_dims(pred[mid_slice+16:mid_slice+32, ...], 1)), nrow=4)[0]\n",
        "    color_grid = color.label2rgb(grid2.numpy(), bg_label=0)\n",
        "    plt.subplot(312)\n",
        "    plt.imshow(color_grid)\n",
        "    plt.title('Prediction')\n",
        "\n",
        "    plt.subplot(313)\n",
        "    plt.imshow(grid.numpy().transpose((1, 2, 0)))\n",
        "    plt.imshow(color_grid, alpha=0.3)\n",
        "    plt.title('Overlay_GT')\n",
        "\n",
        "    for ax in f.axes:\n",
        "      ax.grid(visible=None)\n",
        "      ax.axis(\"off\")\n",
        "    plt.tight_layout()\n",
        "\n",
        "    plt.show()\n",
        "img2 = '/content/fastsurfer_seg/Tutorial/mri/orig.mgz'\n",
        "orig_data = nib.load(img2).get_fdata() / 255\n",
        "pred_data = nib.load('/content/fastsurfer_seg/Tutorial/mri/aparc.DKTatlas+aseg.deep.mgz').get_fdata()\n",
        "#plot_predictions(orig_data, pred_data)"
      ]
    },
    {
      "cell_type": "code",
      "source": [
        "colors = color.label2rgb(pred_data, bg_label=0)"
      ],
      "metadata": {
        "id": "nz9otunLQs5I"
      },
      "execution_count": null,
      "outputs": []
    },
    {
      "cell_type": "code",
      "execution_count": null,
      "metadata": {
        "id": "4qFYsiIK0Ghh",
        "colab": {
          "base_uri": "https://localhost:8080/",
          "height": 445
        },
        "outputId": "3703ce36-c731-429a-bcf4-4fccce3263cd"
      },
      "outputs": [
        {
          "output_type": "display_data",
          "data": {
            "text/plain": [
              "<Figure size 640x480 with 1 Axes>"
            ],
            "image/png": "[encoded data removed]"
          },
          "metadata": {}
        }
      ],
      "source": [
        "idx = 80\n",
        "\n",
        "plt.imshow(np.rot90(orig_data[:,idx]),cmap='gray')\n",
        "plt.imshow(np.rot90(colors[:,idx]),alpha=0.5, cmap='jet')\n",
        "plt.title('Input')\n",
        "plt.show()"
      ]
    },
    {
      "cell_type": "code",
      "execution_count": null,
      "metadata": {
        "id": "W-31Bmb00GkA"
      },
      "outputs": [],
      "source": []
    },
    {
      "cell_type": "code",
      "execution_count": null,
      "metadata": {
        "id": "k4bVZRFq0Gz8"
      },
      "outputs": [],
      "source": []
    },
    {
      "cell_type": "code",
      "execution_count": null,
      "metadata": {
        "id": "1RIyY07h0G2W"
      },
      "outputs": [],
      "source": []
    },
    {
      "cell_type": "code",
      "execution_count": null,
      "metadata": {
        "id": "iX1MXFpTzpGq"
      },
      "outputs": [],
      "source": [
        "import torch.nn.functional as F\n",
        "from nibabel.processing import resample_from_to"
      ]
    },
    {
      "cell_type": "code",
      "execution_count": null,
      "metadata": {
        "colab": {
          "base_uri": "https://localhost:8080/"
        },
        "id": "Yz9Z2MPqz2iD",
        "outputId": "4c1aeae2-d4c0-4d44-9bbb-18af00ecf893"
      },
      "outputs": [
        {
          "data": {
            "text/plain": [
              "2.184931993484497"
            ]
          },
          "execution_count": 24,
          "metadata": {},
          "output_type": "execute_result"
        }
      ],
      "source": [
        "x = nib.load(img).get_fdata()\n",
        "x.max()"
      ]
    },
    {
      "cell_type": "code",
      "execution_count": null,
      "metadata": {
        "colab": {
          "base_uri": "https://localhost:8080/",
          "height": 159
        },
        "id": "0enGzjRlz2wu",
        "outputId": "0ec25040-cb70-497b-8ad3-0ad46777cf9b"
      },
      "outputs": [
        {
          "ename": "NameError",
          "evalue": "name 'color' is not defined",
          "output_type": "error",
          "traceback": [
            "\u001b[0;31m---------------------------------------------------------------------------\u001b[0m",
            "\u001b[0;31mNameError\u001b[0m                                 Traceback (most recent call last)",
            "\u001b[0;32m<ipython-input-26-74e1ed4d5903>\u001b[0m in \u001b[0;36m<cell line: 1>\u001b[0;34m()\u001b[0m\n\u001b[0;32m----> 1\u001b[0;31m \u001b[0mcolors\u001b[0m \u001b[0;34m=\u001b[0m \u001b[0mcolor\u001b[0m\u001b[0;34m.\u001b[0m\u001b[0mlabel2rgb\u001b[0m\u001b[0;34m(\u001b[0m\u001b[0mpred_data\u001b[0m\u001b[0;34m,\u001b[0m \u001b[0mbg_label\u001b[0m\u001b[0;34m=\u001b[0m\u001b[0;36m0\u001b[0m\u001b[0;34m)\u001b[0m\u001b[0;34m\u001b[0m\u001b[0;34m\u001b[0m\u001b[0m\n\u001b[0m\u001b[1;32m      2\u001b[0m \u001b[0mcolors\u001b[0m\u001b[0;34m.\u001b[0m\u001b[0mshape\u001b[0m\u001b[0;34m\u001b[0m\u001b[0;34m\u001b[0m\u001b[0m\n",
            "\u001b[0;31mNameError\u001b[0m: name 'color' is not defined"
          ]
        }
      ],
      "source": [
        "colors = color.label2rgb(pred_data, bg_label=0)\n",
        "colors.shape"
      ]
    },
    {
      "cell_type": "code",
      "execution_count": null,
      "metadata": {
        "colab": {
          "base_uri": "https://localhost:8080/",
          "height": 861
        },
        "id": "sydIO17N0x_B",
        "outputId": "14cce181-2b1f-4483-ad1a-1493423b28cf"
      },
      "outputs": [
        {
          "data": {
            "image/png": "[encoded data removed]",
            "text/plain": [
              "<Figure size 640x480 with 1 Axes>"
            ]
          },
          "metadata": {},
          "output_type": "display_data"
        },
        {
          "data": {
            "text/plain": [
              "<matplotlib.image.AxesImage at 0x7f42de235ff0>"
            ]
          },
          "execution_count": 21,
          "metadata": {},
          "output_type": "execute_result"
        },
        {
          "data": {
            "image/png": "[encoded data removed]",
            "text/plain": [
              "<Figure size 640x480 with 1 Axes>"
            ]
          },
          "metadata": {},
          "output_type": "display_data"
        }
      ],
      "source": [
        "slice = 128\n",
        "plt.imshow(np.rot90(colors[:,:,slice,:], k=3), cmap='jet')\n",
        "plt.show()\n",
        "plt.imshow(np.rot90(orig_data[:,slice].T, k=2), cmap='gray')"
      ]
    },
    {
      "cell_type": "code",
      "execution_count": null,
      "metadata": {
        "id": "neydkTI50yJq"
      },
      "outputs": [],
      "source": []
    },
    {
      "cell_type": "code",
      "execution_count": null,
      "metadata": {
        "id": "PZnP5HJv0yYs"
      },
      "outputs": [],
      "source": []
    },
    {
      "cell_type": "code",
      "execution_count": null,
      "metadata": {
        "cellView": "form",
        "id": "FGA_0vanBn6_"
      },
      "outputs": [],
      "source": [
        "#@title Select and visualize your structures of interest in 3D by using the dropdown menu and clicking \"Run Interact\".\n",
        "from ipywidgets import widgets\n",
        "import matplotlib.pyplot as plt\n",
        "import nibabel as nib\n",
        "import numpy as np\n",
        "#from mpl_toolkits.mplot3d.art3d import Poly3DCollection\n",
        "from skimage import measure\n",
        "\n",
        "pred_data = nib.load('/content/fastsurfer_seg/Tutorial/mri/aparc.DKTatlas+aseg.deep.mgz').get_fdata()\n",
        "\n",
        "labels = [\n",
        "'Lateral-Ventricle',\n",
        "'Inf-Lat-Vent',\n",
        "'Cerebellum-White-Matter',\n",
        "'Cerebellum-Cortex',\n",
        "'Thalamus-Proper',\n",
        "'Caudate',\n",
        "'Putamen',\n",
        "'Pallidum',\n",
        "'3rd-Ventricle',\n",
        "'4th-Ventricle',\n",
        "'Brain-Stem',\n",
        "'Hippocampus',\n",
        "'Amygdala',\n",
        "'CSF',\n",
        "'Accumbens-area',\n",
        "'VentralDC',\n",
        "'choroid-plexus',\n",
        "'caudalanteriorcingulate',\n",
        "'caudalmiddlefrontal',\n",
        "'cuneus',\n",
        "'entorhinal',\n",
        "'fusiform',\n",
        "'inferiorparietal',\n",
        "'inferiortemporal',\n",
        "'isthmuscingulate',\n",
        "'lateraloccipital',\n",
        "'lateralorbitofrontal',\n",
        "'lingual',\n",
        "'medialorbitofrontal',\n",
        "'middletemporal',\n",
        "'parahippocampal',\n",
        "'paracentral',\n",
        "'parsopercularis',\n",
        "'parsorbitalis',\n",
        "'parstriangularis',\n",
        "'pericalcarine',\n",
        "'postcentral',\n",
        "'posteriorcingulate',\n",
        "'precentral',\n",
        "'precuneus',\n",
        "'rostralanteriorcingulate',\n",
        "'rostralmiddlefrontal',\n",
        "'superiorfrontal',\n",
        "'superiorparietal',\n",
        "'superiortemporal',\n",
        "'supramarginal',\n",
        "'transversetemporal',\n",
        "'insula']\n",
        "\n",
        "labels_lookup = {\n",
        "'Left-Lateral-Ventricle': 4,\n",
        "'Left-Inf-Lat-Vent': 5,\n",
        "'Left-Cerebellum-White-Matter': 7,\n",
        "'Left-Cerebellum-Cortex': 8,\n",
        "'Left-Thalamus-Proper': 10,\n",
        "'Left-Caudate': 11,\n",
        "'Left-Putamen': 12,\n",
        "'Left-Pallidum': 13,\n",
        "'Left-3rd-Ventricle': 14,\n",
        "'Left-4th-Ventricle': 15,\n",
        "'Left-Brain-Stem': 16,\n",
        "'Left-Hippocampus': 17,\n",
        "'Left-Amygdala': 18,\n",
        "'Left-CSF': 24,\n",
        "'Left-Accumbens-area': 26,\n",
        "'Left-VentralDC': 28,\n",
        "'Left-choroid-plexus': 31,\n",
        "'Right-Lateral-Ventricle': 43,\n",
        "'Right-Inf-Lat-Vent': 44,\n",
        "'Right-Cerebellum-White-Matter': 46,\n",
        "'Right-Cerebellum-Cortex': 47,\n",
        "'Right-Thalamus-Proper': 49,\n",
        "'Right-Caudate': 50,\n",
        "'Right-Putamen': 51,\n",
        "'Right-Pallidum': 52,\n",
        "'Right-Hippocampus': 53,\n",
        "'Right-Amygdala': 54,\n",
        "'Right-Accumbens-area': 58,\n",
        "'Right-VentralDC': 60,\n",
        "'Right-choroid-plexus': 63,\n",
        "'Right-3rd-Ventricle': 14,\n",
        "'Right-4th-Ventricle': 15,\n",
        "'Right-Brain-Stem': 16,\n",
        "'Right-CSF': 24,\n",
        "'ctx-lh-caudalanteriorcingulate': 1002,\n",
        "'ctx-lh-caudalmiddlefrontal': 1003,\n",
        "'ctx-lh-cuneus': 1005,\n",
        "'ctx-lh-entorhinal': 1006,\n",
        "'ctx-lh-fusiform': 1007,\n",
        "'ctx-lh-inferiorparietal': 1008,\n",
        "'ctx-lh-inferiortemporal': 1009,\n",
        "'ctx-lh-isthmuscingulate': 1010,\n",
        "'ctx-lh-lateraloccipital': 1011,\n",
        "'ctx-lh-lateralorbitofrontal': 1012,\n",
        "'ctx-lh-lingual': 1013,\n",
        "'ctx-lh-medialorbitofrontal': 1014,\n",
        "'ctx-lh-middletemporal': 1015,\n",
        "'ctx-lh-parahippocampal': 1016,\n",
        "'ctx-lh-paracentral': 1017,\n",
        "'ctx-lh-parsopercularis': 1018,\n",
        "'ctx-lh-parsorbitalis': 1019,\n",
        "'ctx-lh-parstriangularis': 1020,\n",
        "'ctx-lh-pericalcarine': 1021,\n",
        "'ctx-lh-postcentral': 1022,\n",
        "'ctx-lh-posteriorcingulate': 1023,\n",
        "'ctx-lh-precentral': 1024,\n",
        "'ctx-lh-precuneus': 1025,\n",
        "'ctx-lh-rostralanteriorcingulate': 1026,\n",
        "'ctx-lh-rostralmiddlefrontal': 1027,\n",
        "'ctx-lh-superiorfrontal': 1028,\n",
        "'ctx-lh-superiorparietal': 1029,\n",
        "'ctx-lh-superiortemporal': 1030,\n",
        "'ctx-lh-supramarginal': 1031,\n",
        "'ctx-lh-transversetemporal': 1034,\n",
        "'ctx-lh-insula': 1035,\n",
        "'ctx-rh-caudalanteriorcingulate': 2002,\n",
        "'ctx-rh-caudalmiddlefrontal': 2003,\n",
        "'ctx-rh-cuneus': 2005,\n",
        "'ctx-rh-entorhinal': 2006,\n",
        "'ctx-rh-fusiform': 2007,\n",
        "'ctx-rh-inferiorparietal': 2008,\n",
        "'ctx-rh-inferiortemporal': 2009,\n",
        "'ctx-rh-isthmuscingulate': 2010,\n",
        "'ctx-rh-lateraloccipital': 2011,\n",
        "'ctx-rh-lateralorbitofrontal': 2012,\n",
        "'ctx-rh-lingual': 2013,\n",
        "'ctx-rh-medialorbitofrontal': 2014,\n",
        "'ctx-rh-middletemporal': 2015,\n",
        "'ctx-rh-parahippocampal': 2016,\n",
        "'ctx-rh-paracentral': 2017,\n",
        "'ctx-rh-parsopercularis': 2018,\n",
        "'ctx-rh-parsorbitalis': 2019,\n",
        "'ctx-rh-parstriangularis': 2020,\n",
        "'ctx-rh-pericalcarine': 2021,\n",
        "'ctx-rh-postcentral': 2022,\n",
        "'ctx-rh-posteriorcingulate': 2023,\n",
        "'ctx-rh-precentral': 2024,\n",
        "'ctx-rh-precuneus': 2025,\n",
        "'ctx-rh-rostralanteriorcingulate': 2026,\n",
        "'ctx-rh-rostralmiddlefrontal': 2027,\n",
        "'ctx-rh-superiorfrontal': 2028,\n",
        "'ctx-rh-superiorparietal': 2029,\n",
        "'ctx-rh-superiortemporal': 2030,\n",
        "'ctx-rh-supramarginal': 2031,\n",
        "'ctx-rh-transversetemporal': 2034,\n",
        "'ctx-rh-insula': 2035}\n",
        "\n",
        "def label_lookups(structure, hemi):\n",
        "  # determine what to plot\n",
        "  if structure[0].isupper():\n",
        "    if hemi == \"left\":\n",
        "      label = labels_lookup[\"Left-\" + structure]\n",
        "    elif hemi == \"right\":\n",
        "      label = labels_lookup[\"Right-\" + structure]\n",
        "    else:\n",
        "      label = [labels_lookup[\"Left-\" + structure], labels_lookup[\"Right-\" + structure]]\n",
        "  else:\n",
        "    if hemi == \"left\":\n",
        "      label = labels_lookup[\"ctx-lh-\" + structure]\n",
        "    elif hemi == \"right\":\n",
        "      label = labels_lookup[\"ctx-rh-\" + structure]\n",
        "    else:\n",
        "      label = [labels_lookup[\"ctx-lh-\" + structure], labels_lookup[\"ctx-rh-\" + structure]]\n",
        "  return label\n",
        "\n",
        "@widgets.interact_manual(\n",
        "    hemisphere=['left', 'right', 'both'], structure=labels)\n",
        "def plot_3d_plotly_shape(structure, hemisphere, show_mesh=True, crop=True, grid=True):\n",
        "  import plotly.graph_objects as go\n",
        "  label = label_lookups(structure, hemisphere)\n",
        "  test_cond = np.in1d(pred_data, label).reshape(pred_data.shape)\n",
        "  roi = np.where(test_cond, 1, 0)\n",
        "  vert_p, faces_p, normals_p, values_p = measure.marching_cubes(roi, 0, spacing=(1, 1, 1))\n",
        "\n",
        "  fig = go.Figure(data=[go.Mesh3d(\n",
        "        x=vert_p[:, 0],\n",
        "        y=vert_p[:, 1],\n",
        "        z=vert_p[:, 2],\n",
        "        # i, j and k give the vertices of triangles\n",
        "        # here we represent the 4 triangles of the tetrahedron surface\n",
        "        i=faces_p[:, 0],\n",
        "        j=faces_p[:, 1],\n",
        "        k=faces_p[:, 2],\n",
        "        name='y',\n",
        "        showscale=True\n",
        "    )]\n",
        "  )\n",
        "\n",
        "  if show_mesh:\n",
        "    #plot surface triangulation\n",
        "    tri_vertices = vert_p[faces_p]\n",
        "    Xe = []\n",
        "    Ye = []\n",
        "    Ze = []\n",
        "\n",
        "    for T in tri_vertices:\n",
        "      Xe += [T[k%3][0] for k in range(4)] + [ None]\n",
        "      Ye += [T[k%3][1] for k in range(4)] + [ None]\n",
        "      Ze += [T[k%3][2] for k in range(4)] + [ None]\n",
        "\n",
        "    fig.add_trace(go.Scatter3d(x=Xe,\n",
        "                     y=Ye,\n",
        "                     z=Ze,\n",
        "                     mode='lines',\n",
        "                     name='',\n",
        "                     line=dict(color= 'rgb(40,40,40)', width=0.5)))\n",
        "  if crop:\n",
        "    scale_min = np.min(vert_p, axis=0)\n",
        "    scale_max = np.max(vert_p, axis=0)\n",
        "  else:\n",
        "    scale_min = [0, 0, 0]\n",
        "    scale_max = pred_data.shape\n",
        "  fig.update_layout(\n",
        "    scene = dict(aspectratio=dict(x=1, y=1, z=1),\n",
        "        xaxis = dict(range=[scale_min[0], scale_max[0]], visible=grid),\n",
        "        yaxis = dict(range=[scale_min[1], scale_max[1]], visible=grid),\n",
        "        zaxis = dict(range=[scale_min[2], scale_max[2]], visible=grid),)\n",
        "    )\n",
        "\n",
        "  fig.show()\n",
        "\n"
      ]
    },
    {
      "cell_type": "markdown",
      "metadata": {
        "id": "Rij942_GVMuF"
      },
      "source": [
        "If the widget is disabled (you are not able to select anything), simply press the play button next to the header.\n",
        "\n",
        "You can use your mouse to zoom in and out as well as rotate the generated mesh to get a better look at the segmentation.\n",
        "\n",
        "To display the surface mesh (edges), check the box \"show_mesh\" (done by default). A plotting grid can be enabled by checking the box \"grid\". Checking the box \"crop\" will automatically adjust the field of view to the range of the ROI. Unchecking it scales the presentation to the dimension of the original scan.\n"
      ]
    },
    {
      "cell_type": "markdown",
      "metadata": {
        "id": "BsGh_S52q89c"
      },
      "source": [
        "# **Use case 2: Quick and a bit more advanced - Segmentation with FastSurfer on your local machine**"
      ]
    },
    {
      "cell_type": "markdown",
      "metadata": {
        "id": "6IUKcDswrbMo"
      },
      "source": [
        "If you are working with data that can not be uploaded to the cloud, have a larger number of samples or want to leverage the power of a compute cluster etc., you need a local installation of FastSurfer.\n",
        "\n",
        "To run the segmentation part, this is still fairly easy. You just need three things:\n",
        "1. an input image\n",
        "2. an output directory\n",
        "3. docker or a local clone of the FastSurfer repository as well as the necessary dependencies (=the advanced part)"
      ]
    },
    {
      "cell_type": "markdown",
      "metadata": {
        "id": "HDUSK_G-uXec"
      },
      "source": [
        "### A. Define input image and output directory"
      ]
    },
    {
      "cell_type": "markdown",
      "metadata": {
        "id": "FjyYAow3y5uS"
      },
      "source": [
        "Let's say we are using the same image and output directory from Use case 1. You can download the image with the command (make sure the download directory exists):\n",
        "\n",
        "```bash\n",
        "curl -k https://surfer.nmr.mgh.harvard.edu/pub/data/tutorial_data/buckner_data/tutorial_subjs/140/mri/orig.mgz -o ./FastSurfer/Tutorial/data/140_orig.mgz\n",
        "```\n",
        "\n",
        "For me, this is file will be stored as 140_orig.mgz in the directory\n",
        "```bash\n",
        "FastSurfer\n",
        "|\n",
        "-Tutorial\n",
        "    |\n",
        "    -data\n",
        "      |\n",
        "      -140_orig.mgz\n",
        "```\n",
        "and I want my output stored in\n",
        "```bash\n",
        "FastSurfer\n",
        "|\n",
        "-Tutorial\n",
        "    |\n",
        "    -output\n",
        "       |\n",
        "       -...my file will later be stored here....\n",
        "```\n",
        "I store these path in variables called *input* and *outputDir* and will later refer to them by the \\$-symbol (\\$input, \\$outputDir). This assignment basically works like in any math calculation (e.g. 5+3 equals 8; a=5, b=3 --> a+b equals 8, or in the shell \\$a+\\$b equals 8).\n",
        "\n",
        "```bash\n",
        "# Define your input image (the one you uploaded above)\n",
        "input=/FastSurfer/Tutorial/data/140_orig.mgz\n",
        "\n",
        "# Define where you stored the output\n",
        "outputDir=/FastSurfer/Tutorial/output\n",
        "```\n",
        "\n",
        "Now, the only thing left to do for me is to clone the repository and install all necessary dependencies."
      ]
    },
    {
      "cell_type": "markdown",
      "metadata": {
        "id": "_-hypLjMhJTD"
      },
      "source": [
        "### B. FastSurfer Installation\n"
      ]
    },
    {
      "cell_type": "markdown",
      "metadata": {
        "id": "pY7qTViJbrrJ"
      },
      "source": [
        "### Requirements\n",
        "- Linux OS (GPU or CPU), Mac OS (Docker + CPU only), Windows (Docker only), Google Colab (cloud computing)\n",
        "- ~ 10 GB RAM\n",
        "- Can use Docker or local install (conda or python3 + pip)\n",
        "- Optimal: Linux OS + GPU + Docker"
      ]
    },
    {
      "cell_type": "code",
      "execution_count": null,
      "metadata": {
        "cellView": "form",
        "id": "sUUqcv3KgwjK"
      },
      "outputs": [],
      "source": [
        "#@title ### Select an installation option\n",
        "import ipywidgets as widgets\n",
        "from IPython.display import display\n",
        "\n",
        "class ClickResponsiveToggleButtons(widgets.ToggleButtons):\n",
        "\n",
        "    def __init__(self, *args, **kwargs):\n",
        "        super().__init__(*args, **kwargs)\n",
        "        self._click_handlers = widgets.CallbackDispatcher()\n",
        "        self.on_msg(self._handle_button_msg)\n",
        "        pass\n",
        "\n",
        "    def on_click(self, callback, remove=False):\n",
        "        \"\"\"Register a callback to execute when the button is clicked.\n",
        "\n",
        "        The callback will be called with one argument, the clicked button\n",
        "        widget instance.\n",
        "\n",
        "        Parameters\n",
        "        ----------\n",
        "        remove: bool (optional)\n",
        "            Set to true to remove the callback from the list of callbacks.\n",
        "        \"\"\"\n",
        "        self._click_handlers.register_callback(callback, remove=remove)\n",
        "\n",
        "    def _handle_button_msg(self, _, content, buffers):\n",
        "        \"\"\"Handle a msg from the front-end.\n",
        "\n",
        "        Parameters\n",
        "        ----------\n",
        "        content: dict\n",
        "            Content of the msg.\n",
        "        \"\"\"\n",
        "        if content.get('event', '') == 'click':\n",
        "            self._click_handlers(self)\n",
        "\n",
        "toggle = ClickResponsiveToggleButtons(\n",
        "    options=['python3 + pip (GPU)', 'conda (GPU)', 'docker (GPU)', 'python3 + pip (CPU)', 'conda (CPU)', 'docker (CPU)'],\n",
        "    description='Option:',\n",
        "    disabled=False,\n",
        "    button_style='', # 'success', 'info', 'warning', 'danger' or ''\n",
        "    tooltips=['FastSurfer installation with python3 + pip on GPU',\n",
        "              'FastSurfer installation with conda on GPU',\n",
        "              'FastSurfer installation with docker on GPU',\n",
        "              'FastSurfer installation with python3 + pip on CPU',\n",
        "              'FastSurfer installation with conda on CPU',\n",
        "              'FastSurfer installation with docker on CPU'],\n",
        "#     icons=['check'] * 3\n",
        ")\n",
        "\n",
        "html3 = widgets.HTML(value=\"Select and installation option\",\n",
        "    placeholder='Command',\n",
        "    description='Command:',\n",
        ")\n",
        "\n",
        "def send_message(sender):\n",
        "    install = {\"python3 + pip (GPU)\": '<p style=\"font-size:1em;line-height:1.5;background-color:#EEEEEE\">\\\n",
        "                                 <font face=\"Courier New\"># Clone FastSurfer repo <br>\\\n",
        "                                 git clone -q https://github.com/deep-mi/fastsurfer.git <br>\\\n",
        "                                 cd fastsurfer <br>\\\n",
        "                                 export FASTSURFER_HOME=$PWD <br><br>\\\n",
        "                                 # Install python dependencies <br>\\\n",
        "                                 python3 -m pip install --user --trusted-host pypi.python.org \\\n",
        "                                 --prefer-binary -r requirements.txt</font></p>',\n",
        "               \"conda (GPU)\": '<p style=\"font-size:1em;line-height:1.5;background-color:#EEEEEE\">\\\n",
        "                        <font face=\"Courier New\"># Clone FastSurfer repo<br>\\\n",
        "                        git clone -q https://github.com/deep-mi/fastsurfer.git <br>\\\n",
        "                        cd fastsurfer <br>\\\n",
        "                        export FASTSURFER_HOME=$PWD <br><br>\\\n",
        "                        # Install python dependencies<br>\\\n",
        "                        conda env create --name fastsurfer_gpu --file ./fastsurfer_env_gpu.yml <br>\\\n",
        "                        conda activate fastsurfer_gpu</font></p>',\n",
        "               \"docker (GPU)\": '<p style=\"font-size:1em;background-color:#EEEEEE\"\"><font face=\"Courier New\">\\\n",
        "                          # pull docker image <br>\\\n",
        "                          docker pull deepmi/fastsurfer:gpu-v2.0.0 </font></p>',\n",
        "              \"python3 + pip (CPU)\": '<p style=\"font-size:1em;line-height:1.5;background-color:#EEEEEE\">\\\n",
        "                                 <font face=\"Courier New\"># Clone FastSurfer repo <br>\\\n",
        "                                 git clone -q https://github.com/deep-mi/fastsurfer.git <br>\\\n",
        "                                 cd fastsurfer <br>\\\n",
        "                                 export FASTSURFER_HOME=$PWD <br><br>\\\n",
        "                                 # Install python dependencies <br>\\\n",
        "                                 python3 -m pip install --user --trusted-host pypi.python.org \\\n",
        "                                 --prefer-binary -r requirements_cpu.txt</font></p>',\n",
        "               \"conda (CPU)\": '<p style=\"font-size:1em;line-height:1.5;background-color:#EEEEEE\">\\\n",
        "                        <font face=\"Courier New\"># Clone FastSurfer repo<br>\\\n",
        "                        git clone -q https://github.com/deep-mi/fastsurfer.git <br>\\\n",
        "                        cd fastsurfer <br>\\\n",
        "                        export FASTSURFER_HOME=$PWD <br><br>\\\n",
        "                        # Install python dependencies<br>\\\n",
        "                        conda env create --name fastsurfer_cpu --file ./fastsurfer_env_cpu.yml <br>\\\n",
        "                        conda activate fastsurfer_cpu</font></p>',\n",
        "               \"docker (CPU)\": '<p style=\"font-size:1em;background-color:#EEEEEE\"\"><font face=\"Courier New\">\\\n",
        "                          # pull docker image <br>\\\n",
        "                          docker pull deepmi/fastsurfer:cpu-v2.0.0</font></p>'}\n",
        "    html3.value= install[sender.value]\n",
        "\n",
        "toggle.on_click(send_message)\n",
        "\n",
        "display(toggle)\n",
        "display(html3)"
      ]
    },
    {
      "cell_type": "markdown",
      "metadata": {
        "id": "I4gAXjWbtZJl"
      },
      "source": [
        "### List of installation options, in case the widget is not working"
      ]
    },
    {
      "cell_type": "markdown",
      "metadata": {
        "id": "Vtvpt98OuGPC"
      },
      "source": [
        "#### python3 + pip"
      ]
    },
    {
      "cell_type": "markdown",
      "metadata": {
        "id": "-SOJXck9tikK"
      },
      "source": [
        "\n",
        "\n",
        "##### GPU\n",
        "```bash\n",
        "# Clone FastSurfer repo\n",
        "git clone -q https://github.com/deep-mi/fastsurfer.git\n",
        "cd fastsurfer\n",
        "export FASTSURFER_HOME=$PWD\n",
        "\n",
        "# Install python dependencies\n",
        "python3 -m pip install --user --trusted-host pypi.python.org --prefer-binary -r requirements.txt\n",
        "```\n",
        "\n",
        "##### CPU\n",
        "\n",
        "```bash\n",
        "# Clone FastSurfer repo\n",
        "git clone -q https://github.com/deep-mi/fastsurfer.git\n",
        "cd fastsurfer\n",
        "export FASTSURFER_HOME=$PWD\n",
        "\n",
        "# Open requirements (with any text editor) and add +cpu to lines 24 and 26\n",
        "# Install python dependencies\n",
        "python3 -m pip install --user --trusted-host pypi.python.org --prefer-binary -r requirements.txt\n",
        "```\n"
      ]
    },
    {
      "cell_type": "markdown",
      "metadata": {
        "id": "WGLkCHvZuP3o"
      },
      "source": [
        "#### conda"
      ]
    },
    {
      "cell_type": "markdown",
      "metadata": {
        "id": "ncSuCp5EuWud"
      },
      "source": [
        "\n",
        "##### GPU\n",
        "```bash\n",
        "# Clone FastSurfer repo\n",
        "git clone -q https://github.com/deep-mi/fastsurfer.git\n",
        "cd fastsurfer\n",
        "export FASTSURFER_HOME=$PWD\n",
        "\n",
        "# Install python dependencies\n",
        "conda env create --name fastsurfer_gpu --file ./fastsurfer_env_gpu.yml\n",
        "conda activate fastsurfer_gpu\n",
        "```\n",
        "\n",
        "##### CPU\n",
        "\n",
        "```bash\n",
        "# Clone FastSurfer repo\n",
        "git clone -q https://github.com/deep-mi/fastsurfer.git\n",
        "cd fastsurfer\n",
        "export FASTSURFER_HOME=$PWD\n",
        "\n",
        "# Install python dependencies\n",
        "conda env create --name fastsurfer_cpu --file ./fastsurfer_env_cpu.yml\n",
        "conda activate fastsurfer_cpu\n",
        "```"
      ]
    },
    {
      "cell_type": "markdown",
      "metadata": {
        "id": "nde66Pz9uwU7"
      },
      "source": [
        "#### docker"
      ]
    },
    {
      "cell_type": "markdown",
      "metadata": {
        "id": "vEA0TUA2uyD6"
      },
      "source": [
        "##### GPU\n",
        "```bash\n",
        "# pull docker image\n",
        "docker pull deepmi/fastsurfer:gpu-v2.0.0\n",
        "```\n",
        "\n",
        "##### CPU\n",
        "\n",
        "```bash\n",
        "# pull docker image\n",
        "docker pull deepmi/fastsurfer:cpu-v2.0.0\n",
        "```"
      ]
    },
    {
      "cell_type": "markdown",
      "metadata": {
        "id": "u2hcyiOb1lCD"
      },
      "source": [
        "#### Short explanation of the commands"
      ]
    },
    {
      "cell_type": "markdown",
      "metadata": {
        "id": "pIFHZzqcxyy0"
      },
      "source": [
        "For python3 + pip and conda, we first create a local copy of the FastSurfer code:\n",
        "- [git clone](https://git-scm.com/docs/git-clone): download your own copy of the FastSurfer repository\n",
        "- [cd](https://wiki.ubuntuusers.de/cd/) fastsurfer: go into the directory you just created with the git command (cd = change directory)\n",
        "- export FASTSURFER_HOME=$PWD: create a variable pointing to your FastSurfer installation so you can run the commands from anywhere on your computer. PWD stands for \"Print Working Directory\" and refers to the directory you are in at the time of issuing the command (e.g. here the fastsurfer directory in which we went with the previous command)\n",
        "\n",
        "For python3 you then install all dependencies (listed in requirements.txt). It is best to do this in an virtual environment (like e.g. [pipenv](https://pypi.org/project/pipenv/)/[virtualenv](https://pypi.org/project/virtualenv/)).\n",
        "\n",
        "For [conda](https://conda.io/projects/conda/en/latest/user-guide/getting-started.html) you are creating a [conda environment](https://conda.io/projects/conda/en/latest/user-guide/getting-started.html#managing-environments) containing all the dependencies (fastsurfer_gpu or fastsurfer_cpu). You need to activate this environment with conda activate. To deactivate it, simply type conda deactivate. You have to activate the environment every time you want to run FastSurfer code.\n",
        "\n",
        "For [docker](https://docs.docker.com/), you are simply downloading the fastsurfer image (deepmi/fastsurfer:gpu-v2.0.0). Alternatively, you could also download deepmi/fastsurfer:segonly-gpu-v2.0.0, deepmi/fastsurfer:segonly-cpu-v2.0.0, deepmi/fastsurfer:cpu-v2.0.0 or deepmi/fastsurfer:surfonly-cpu-v2.0.0. The first part of the name indicates what you are running (fastsurfer from the deepmi website). The tag is split into two parts. The first defines what part of the pipeline you can run with it (segonly=only segmentation, surfonly=only surface pipeline, no prefix=both options can be run) and the second defines on what you run it (cpu or gpu). If you want to modify the image, you can find the Dockerfiles the images are based on in our github page (in the [Docker folder](https://github.com/Deep-MI/FastSurfer/blob/stable/Docker/)). The [README](https://github.com/Deep-MI/FastSurfer/blob/stable/Docker/README.md) there also contains information on how to build the docker from source."
      ]
    },
    {
      "cell_type": "markdown",
      "metadata": {
        "id": "5NG2jOp94Ijr"
      },
      "source": [
        "### C. Define the run command"
      ]
    },
    {
      "cell_type": "markdown",
      "metadata": {
        "id": "Wde4SxOE7Caj"
      },
      "source": [
        "#### C1 - Local install run command (conda or pip)"
      ]
    },
    {
      "cell_type": "markdown",
      "metadata": {
        "id": "TK_a-O7G4YA5"
      },
      "source": [
        "We are using our variables from above:\n",
        "- Section A: \\$input (/FastSurfer/Tutorial/data/140_orig.mgz) and \\$outputDir (/FastSurfer/Tutorial/output)\n",
        "- Section B: \\$FASTSURFER_HOME variable pointing to your local installation of FastSurfer (included in the installation command; run it again with export FASTSURFER_HOME=/path/to/fastsurfer)\n",
        "- New: Add the Subject Identifier (name of the folder in which your results will finally be stored. Normally these are defined with respect to the image, so in this case we are using 140)\n",
        "\n",
        "```bash\n",
        "###\n",
        "# This was already done in Section A and B, but posted here for consistency\n",
        "###\n",
        "# Define your input image (the one you downloaded above)\n",
        "input=/FastSurfer/Tutorial/data/140_orig.mgz\n",
        "\n",
        "# Define where you stored the output\n",
        "outputDir=/FastSurfer/Tutorial/output\n",
        "\n",
        "# Define where your local installation of FastSurfer can be found (define the absolute path!)\n",
        "export FASTSURFER_HOME=$pwd/fastsurfer\n",
        "####\n",
        "\n",
        "###\n",
        "# Final run command\n",
        "###\n",
        "$FASTSURFER_HOME/run_fastsurfer.sh --t1 $input \\\n",
        "                                   --sd $outputDir \\\n",
        "                                   --sid 140 \\\n",
        "                                   --seg_only\n",
        "```"
      ]
    },
    {
      "cell_type": "markdown",
      "metadata": {
        "id": "4vZuR20w7QzV"
      },
      "source": [
        "#### C2 - Docker run command"
      ]
    },
    {
      "cell_type": "markdown",
      "metadata": {
        "id": "FhIVYmH_8meY"
      },
      "source": [
        "For a docker version, the procedure is basically the same as for the local install in C1. We are using our variables from above with a slight change:\n",
        "- Section A - \\$output stays as it is (*Fastsurfer/Tutorial/output*)\n",
        "- Section A - \\$input (*FastSurfer/Tutorial/data/140_orig.mgz*) is split into two parts\n",
        "> - the directory *FastSurfer/Tutorial/data/*\n",
        "> - the file name *140_orig.mgz*\n",
        "- New - Add the Subject Identifier (name of the folder in which your results will finally be stored). Normally these are defined with respect to the image, so in this case we are using *140*\n",
        "- New - docker specific definitions\n",
        "> - *docker run [options] image:tag* --> run your docker image\n",
        "> - *--gpus device=0* --> use one gpu\n",
        "> - *--rm* --> remove the container once the process finishes\n",
        "> - *--user \\$(id -u):\\$(id -g)* --> run docker as local user\n",
        "\n",
        "Why do we split the \\$input into two parts?\n",
        "- Docker does only have access to the folders you specify via the -v flag (stands for volume mount); so in order to see the image, you have to tell it in which directory it should look. Inside docker this directory is known by the name behind the colon (-v path/to/input_dir:/name_inside_docker)\n",
        "\n",
        "```bash\n",
        "###\n",
        "# Final run command\n",
        "###\n",
        "docker run --gpus device=0 --rm --user $(id -u):$(id -g) \\\n",
        "          -v /FastSurfer/Tutorial/data:/data \\\n",
        "          -v /FastSurfer/Tutorial/output:/output \\\n",
        "          deepmi/fastsurfer:latest --t1 /data/140_orig.mgz \\\n",
        "                         --sd /output \\\n",
        "                         --sid 140 \\\n",
        "                         --seg_only\n",
        "```\n",
        "\n",
        "The docker is constructed such that it automatically enters the _run_fastsurfer.sh_ command. Therefore, the flags are identical to the command under C1."
      ]
    },
    {
      "cell_type": "markdown",
      "metadata": {
        "id": "NIZxwLVcG6dG"
      },
      "source": [
        "### Done!"
      ]
    },
    {
      "cell_type": "markdown",
      "metadata": {
        "id": "UO-sSUci6TMt"
      },
      "source": [
        "\n",
        "Congratulations. You successfully installed FastSurfer and segmented your image into 95 classes on your local GPU.\n",
        "\n",
        "#### Inspect the results\n",
        "\n",
        "As before, you can now have a look at the output.\n",
        "\n",
        "The run_fastsurfer command automatically generates the following folder structures and files:\n",
        "\n",
        "```\n",
        "Tutorial\n",
        "└──output\n",
        "    └──140\n",
        "        ├── mri\n",
        "        │   └──aparc.DKTatlas+aseg.deep.mgz\n",
        "        └──scripts\n",
        "            └──deep_seg.log\n",
        "\n",
        "```\n",
        "\n",
        "So as you can see, the Subject Folder you defined by --sid, contains two subdirectories - mri and scripts. In mri you can find the final segmentation under the name aparc.DKTatlas+aseg.deep.mgz. In the scripts folder you can find the log-file for the run.\n",
        "\n",
        "As before, you can now use the neuroimaging viewer of your choice to inspect the results. As an example, in Freeview you could visualize the segmentations and input image like this:\n",
        "\n",
        "```bash\n",
        "# If you have not done this yet: export and source FreeSurfer\n",
        "export FREESURFER_HOME=/path/to/your/FreeSurfer_install\n",
        "source $FREESURFER_HOME/SetUpFreeSurfer.sh\n",
        "\n",
        "# Define your input image (the one you downloaded above)\n",
        "input=/FastSurfer/Tutorial/data/140_orig.mgz\n",
        "\n",
        "# Define where you stored the output\n",
        "output=/FastSurfer/Tutorial/output/TestSubject1/mri/aparc.DKTatlas+aseg.deep.mgz\n",
        "\n",
        "# Freeview command\n",
        "freeview -v $input \\\n",
        "         -v $output:colormap=lut\n",
        "```\n",
        "\n",
        "... finally, we can run the **recon-surf** pipeline on top of the segmentation (or FastSurfer as a whole), to generate surface models, roi statistics, thickness, curvature maps and everything else you find in a normal FreeSurfer run!"
      ]
    },
    {
      "cell_type": "markdown",
      "metadata": {
        "id": "VdKXFmPFAAC0"
      },
      "source": [
        "### FAQ - Common questions and problems"
      ]
    },
    {
      "cell_type": "markdown",
      "metadata": {
        "id": "t5xoPth_AH1I"
      },
      "source": [
        "#### 1. I get \"*RuntimeError: CUDA out of memory*\" when running the segmentation\n",
        "\n",
        "* Potential solution: Adjust where the view aggregation is run. By default, the program checks if you have enough memory to run the view aggregation on the gpu. But you can force it to a device with `--viewagg_device <str>` where potential options are \"cpu\" or \"cuda\". In this case it is most likely that the check fails and you don't have enough GPU RAM, so we recommend running the viewagg on the CPU by changing the command under C1 as following:\n",
        "\n",
        "```\n",
        "$FASTSURFER_HOME/run_fastsurfer.sh --t1 $input \\\n",
        "                                   --sd $outputDir \\\n",
        "                                   --sid 140 \\\n",
        "                                   --seg_only \\\n",
        "                                   --viewagg_device cpu\n",
        "```\n",
        "in the command under C2:\n",
        "```\n",
        "docker run --gpus device=0 --rm --user $(id -u):$(id -g) \\\n",
        "          -v /FastSurfer/Tutorial/data:/data \\\n",
        "          -v /FastSurfer/Tutorial/output:/output \\\n",
        "          deepmi/fastsurfer:gpu-v2.0.0 --t1 /data/140_orig.mgz \\\n",
        "                         --sd /output \\\n",
        "                         --sid 140 \\\n",
        "                         --seg_only \\\n",
        "                         --viewagg_device cpu\n",
        "```\n"
      ]
    },
    {
      "cell_type": "markdown",
      "metadata": {
        "id": "xm2J81lbCi72"
      },
      "source": [
        "\n",
        "#### 2. I am running the cpu version on Mac with docker and it just stops without any error\n",
        "\n",
        "- Potential solution: This is probably a memory problem. In order to run FastSurfer you need around 10 GB RAM, but Docker Desktop on MAC is set to use 2 GB runtime memory by default. You can overwrite the settings under Docker Desktop --> Preferences --> Resources --> Advanced, slide the bar under Memory to 10 GB; see: https://docs.docker.com/docker-for-mac/ for details."
      ]
    },
    {
      "cell_type": "markdown",
      "metadata": {
        "id": "wG7oeZQwSDS5"
      },
      "source": [
        "# **Use case 3 - Surface models, Thickness maps and more: FastSurfer's recon-surf command**"
      ]
    },
    {
      "cell_type": "markdown",
      "metadata": {
        "id": "Ee1mugxxTGCf"
      },
      "source": [
        "With recon-surf, we provide a full FreeSurfer alternative for cortical surface reconstruction, mapping of cortical labels and traditional point-wise and ROI thickness analysis in approximately 45 minutes (+ optionally 30 min for group registration; CPU with 4 Threads and run in parallel).\n",
        "\n",
        "To run the surface pipeline _recon-surf_, you need the same three things as for the segmentation part:\n",
        "1. an input image\n",
        "2. an output directory\n",
        "3. docker or a local clone of the FastSurfer repository as well as the necessary dependencies\n"
      ]
    },
    {
      "cell_type": "markdown",
      "metadata": {
        "id": "UJPY_Yn3UwHR"
      },
      "source": [
        "## A. Define input image and output directory"
      ]
    },
    {
      "cell_type": "markdown",
      "metadata": {
        "id": "UunXnn-MVV4z"
      },
      "source": [
        "As before, we are using the same image and output directory. For me, this is 140_orig.mgz in the directory\n",
        "```bash\n",
        "FastSurfer\n",
        "|\n",
        "-Tutorial\n",
        "    |\n",
        "    -data\n",
        "      |\n",
        "      -140_orig.mgz\n",
        "```\n",
        "and I am storing my output in\n",
        "```bash\n",
        "FastSurfer\n",
        "|\n",
        "-Tutorial\n",
        "    |\n",
        "    -output\n",
        "       |\n",
        "       ...my files will later be stored here....\n",
        "```\n",
        "\n",
        "```bash\n",
        "# Define your input image\n",
        "input=/FastSurfer/Tutorial/data/140_orig.mgz\n",
        "\n",
        "# Define where you stored the output\n",
        "outputDir=/FastSurfer/Tutorial/output\n",
        "```"
      ]
    },
    {
      "cell_type": "markdown",
      "metadata": {
        "id": "v8tLt6r3bZ8h"
      },
      "source": [
        "## B1. FastSurfer Installation\n"
      ]
    },
    {
      "cell_type": "markdown",
      "metadata": {
        "id": "w8LXD0u7bmFt"
      },
      "source": [
        "### Requirements\n",
        "- Linux OS (GPU or CPU), Mac OS (Docker + CPU only), Google Colab (cloud computing)\n",
        "- ~ 10 GB RAM\n",
        "- Can use Docker or local install (conda or python3 + pip)\n",
        "- Optimal: Linux OS + GPU + Docker"
      ]
    },
    {
      "cell_type": "code",
      "execution_count": null,
      "metadata": {
        "cellView": "form",
        "id": "svhmf3ambZ81"
      },
      "outputs": [],
      "source": [
        "#@title ### Select an installation option\n",
        "import ipywidgets as widgets\n",
        "from IPython.display import display\n",
        "\n",
        "class ClickResponsiveToggleButtons(widgets.ToggleButtons):\n",
        "\n",
        "    def __init__(self, *args, **kwargs):\n",
        "        super().__init__(*args, **kwargs)\n",
        "        self._click_handlers = widgets.CallbackDispatcher()\n",
        "        self.on_msg(self._handle_button_msg)\n",
        "        pass\n",
        "\n",
        "    def on_click(self, callback, remove=False):\n",
        "        \"\"\"Register a callback to execute when the button is clicked.\n",
        "\n",
        "        The callback will be called with one argument, the clicked button\n",
        "        widget instance.\n",
        "\n",
        "        Parameters\n",
        "        ----------\n",
        "        remove: bool (optional)\n",
        "            Set to true to remove the callback from the list of callbacks.\n",
        "        \"\"\"\n",
        "        self._click_handlers.register_callback(callback, remove=remove)\n",
        "\n",
        "    def _handle_button_msg(self, _, content, buffers):\n",
        "        \"\"\"Handle a msg from the front-end.\n",
        "\n",
        "        Parameters\n",
        "        ----------\n",
        "        content: dict\n",
        "            Content of the msg.\n",
        "        \"\"\"\n",
        "        if content.get('event', '') == 'click':\n",
        "            self._click_handlers(self)\n",
        "\n",
        "toggle = ClickResponsiveToggleButtons(\n",
        "    options=['python3 + pip (GPU)', 'conda (GPU)', 'docker (GPU)', 'python3 + pip (CPU)', 'conda (CPU)', 'docker (CPU)'],\n",
        "    description='Option:',\n",
        "    disabled=False,\n",
        "    button_style='', # 'success', 'info', 'warning', 'danger' or ''\n",
        "    tooltips=['FastSurfer installation with python3 + pip on GPU',\n",
        "              'FastSurfer installation with conda on GPU',\n",
        "              'FastSurfer installation with docker on GPU',\n",
        "              'FastSurfer installation with python3 + pip on CPU',\n",
        "              'FastSurfer installation with conda on CPU',\n",
        "              'FastSurfer installation with docker on CPU'],\n",
        "#     icons=['check'] * 3\n",
        ")\n",
        "\n",
        "html3 = widgets.HTML(value=\"Select and installation option\",\n",
        "    placeholder='Command',\n",
        "    description='Command:',\n",
        ")\n",
        "\n",
        "def send_message(sender):\n",
        "    install = {\"python3 + pip (GPU)\": '<p style=\"font-size:1em;line-height:1.5;background-color:#EEEEEE\">\\\n",
        "                                 <font face=\"Courier New\"># Clone FastSurfer repo <br>\\\n",
        "                                 git clone -q https://github.com/deep-mi/fastsurfer.git <br>\\\n",
        "                                 cd fastsurfer <br>\\\n",
        "                                 export FASTSURFER_HOME=$PWD <br><br>\\\n",
        "                                 # Install python dependencies <br>\\\n",
        "                                 python3 -m pip install --user --trusted-host pypi.python.org \\\n",
        "                                 --prefer-binary -r requirements.txt</font></p>',\n",
        "               \"conda (GPU)\": '<p style=\"font-size:1em;line-height:1.5;background-color:#EEEEEE\">\\\n",
        "                        <font face=\"Courier New\"># Clone FastSurfer repo<br>\\\n",
        "                        git clone -q https://github.com/deep-mi/fastsurfer.git <br>\\\n",
        "                        cd fastsurfer <br>\\\n",
        "                        export FASTSURFER_HOME=$PWD <br><br>\\\n",
        "                        # Install python dependencies<br>\\\n",
        "                        conda env create --name fastsurfer_gpu --file ./fastsurfer_env_gpu.yml <br>\\\n",
        "                        conda activate fastsurfer_gpu</font></p>',\n",
        "               \"docker (GPU)\": '<p style=\"font-size:1em;background-color:#EEEEEE\"\"><font face=\"Courier New\">\\\n",
        "                          # pull docker image <br>\\\n",
        "                          docker pull deepmi/fastsurfer:gpu-v2.0.0</font></p>',\n",
        "              \"python3 + pip (CPU)\": '<p style=\"font-size:1em;line-height:1.5;background-color:#EEEEEE\">\\\n",
        "                                 <font face=\"Courier New\"># Clone FastSurfer repo <br>\\\n",
        "                                 git clone -q https://github.com/deep-mi/fastsurfer.git <br>\\\n",
        "                                 cd fastsurfer <br>\\\n",
        "                                 export FASTSURFER_HOME=$PWD <br><br>\\\n",
        "                                 # Install python dependencies <br>\\\n",
        "                                 python3 -m pip install --user --trusted-host pypi.python.org \\\n",
        "                                 --prefer-binary -r requirements_cpu.txt</font></p>',\n",
        "               \"conda (CPU)\": '<p style=\"font-size:1em;line-height:1.5;background-color:#EEEEEE\">\\\n",
        "                        <font face=\"Courier New\"># Clone FastSurfer repo<br>\\\n",
        "                        git clone -q https://github.com/deep-mi/fastsurfer.git <br>\\\n",
        "                        cd fastsurfer <br>\\\n",
        "                        export FASTSURFER_HOME=$PWD <br><br>\\\n",
        "                        # Install python dependencies<br>\\\n",
        "                        conda env create --name fastsurfer_cpu --file ./fastsurfer_env_cpu.yml <br>\\\n",
        "                        conda activate fastsurfer_cpu</font></p>',\n",
        "               \"docker (CPU)\": '<p style=\"font-size:1em;background-color:#EEEEEE\"\"><font face=\"Courier New\">\\\n",
        "                          # pull docker image <br>\\\n",
        "                          docker pull deepmi/fastsurfer:cpu-v2.0.0</font></p>'}\n",
        "    html3.value= install[sender.value]\n",
        "\n",
        "toggle.on_click(send_message)\n",
        "\n",
        "display(toggle)\n",
        "display(html3)"
      ]
    },
    {
      "cell_type": "markdown",
      "metadata": {
        "id": "KXOUZqy1vDGX"
      },
      "source": [
        "### List of installation options, in case the widget is not working"
      ]
    },
    {
      "cell_type": "markdown",
      "metadata": {
        "id": "ZXFhCKTzvDGg"
      },
      "source": [
        "#### python3 + pip"
      ]
    },
    {
      "cell_type": "markdown",
      "metadata": {
        "id": "yqVdVh7JvDGg"
      },
      "source": [
        "\n",
        "\n",
        "##### GPU\n",
        "```bash\n",
        "# Clone FastSurfer repo\n",
        "git clone -q https://github.com/deep-mi/fastsurfer.git\n",
        "cd fastsurfer\n",
        "export FASTSURFER_HOME=$PWD\n",
        "\n",
        "# Install python dependencies\n",
        "python3 -m pip install --user --trusted-host pypi.python.org --prefer-binary -r requirements.txt\n",
        "```\n",
        "\n",
        "##### CPU\n",
        "\n",
        "```bash\n",
        "# Clone FastSurfer repo\n",
        "git clone -q https://github.com/deep-mi/fastsurfer.git\n",
        "cd fastsurfer\n",
        "export FASTSURFER_HOME=$PWD\n",
        "\n",
        "# Open requirements (with any text editor) and add +cpu to lines 24 and 26\n",
        "# Install python dependencies\n",
        "python3 -m pip install --user --trusted-host pypi.python.org --prefer-binary -r requirements.txt\n",
        "```\n"
      ]
    },
    {
      "cell_type": "markdown",
      "metadata": {
        "id": "t3zO-rHTvDGg"
      },
      "source": [
        "#### conda"
      ]
    },
    {
      "cell_type": "markdown",
      "metadata": {
        "id": "id3PpUvmvDGh"
      },
      "source": [
        "\n",
        "##### GPU\n",
        "```bash\n",
        "# Clone FastSurfer repo\n",
        "git clone -q https://github.com/deep-mi/fastsurfer.git\n",
        "cd fastsurfer\n",
        "export FASTSURFER_HOME=$PWD\n",
        "\n",
        "# Install python dependencies\n",
        "conda env create --name fastsurfer_gpu --file ./fastsurfer_env_gpu.yml\n",
        "conda activate fastsurfer_gpu\n",
        "```\n",
        "\n",
        "##### CPU\n",
        "\n",
        "```bash\n",
        "# Clone FastSurfer repo\n",
        "git clone -q https://github.com/deep-mi/fastsurfer.git\n",
        "cd fastsurfer\n",
        "export FASTSURFER_HOME=$PWD\n",
        "\n",
        "# Install python dependencies\n",
        "conda env create --name fastsurfer_cpu --file ./fastsurfer_env_cpu.yml\n",
        "conda activate fastsurfer_cpu\n",
        "```"
      ]
    },
    {
      "cell_type": "markdown",
      "metadata": {
        "id": "nxRXDpFovDGh"
      },
      "source": [
        "#### docker"
      ]
    },
    {
      "cell_type": "markdown",
      "metadata": {
        "id": "A7a3OzgOvDGh"
      },
      "source": [
        "##### GPU\n",
        "```bash\n",
        "# pull docker image\n",
        "docker pull deepmi/fastsurfer:gpu-v2.0.0\n",
        "```\n",
        "\n",
        "##### CPU\n",
        "\n",
        "```bash\n",
        "# pull docker image\n",
        "docker pull deepmi/fastsurfer:cpu-v2.0.0\n",
        "```"
      ]
    },
    {
      "cell_type": "markdown",
      "metadata": {
        "id": "61KeLNjTvDGh"
      },
      "source": [
        "#### Short explanation of the commands"
      ]
    },
    {
      "cell_type": "markdown",
      "metadata": {
        "id": "kmuCI7grvDGh"
      },
      "source": [
        "For python3 + pip and conda, we first create a local copy of the FastSurfer code:\n",
        "- [git clone](https://git-scm.com/docs/git-clone): download your own copy of the FastSurfer repository\n",
        "- [cd](https://wiki.ubuntuusers.de/cd/) fastsurfer: go into the directory you just created with the git command (cd = change directory)\n",
        "- export FASTSURFER_HOME=$PWD: create a variable pointing to your FastSurfer installation so you can run the commands from anywhere on your computer. PWD stands for \"Print Working Directory\" and refers to the directory you are in at the time of issuing the command (e.g. here the fastsurfer directory in which we went with the previous command)\n",
        "\n",
        "For python3 you then install all dependencies (listed in requirements.txt). It is best to do this in an virtual environment (like e.g. [pipenv](https://pypi.org/project/pipenv/)/[virtualenv](https://pypi.org/project/virtualenv/)).\n",
        "\n",
        "For [conda](https://conda.io/projects/conda/en/latest/user-guide/getting-started.html) you are creating a [conda environment](https://conda.io/projects/conda/en/latest/user-guide/getting-started.html#managing-environments) containing all the dependencies (fastsurfer_gpu or fastsurfer_cpu). You need to activate this environment with conda activate. To deactivate it, simply type conda deactivate. You have to activate the environment every time you want to run FastSurfer code.\n",
        "\n",
        "For [docker](https://docs.docker.com/), you are simply downloading the fastsurfer image (deepmi/fastsurfer:gpu-v2.0.0. Alternatively, you could also download deepmi/fastsurfer:segonly-gpu-v2.0.0, deepmi/fastsurfer:segonly-cpu-v2.0.0, deepmi/fastsurfer:cpu-v2.0.0 or deepmi/fastsurfer:surfonly-cpu-v2.0.0. The first part of the name indicates what you are running (fastsurfer from the deepmi website). The tag is split into two parts. The first defines what part of the pipeline you can run with it (segonly=only segmentation, surfonly=only surface pipeline, no prefix=both options can be run) and the second defines on what you run it (cpu or gpu). If you want to modify the image, you can find the Dockerfiles the images are based on in our github page (in the [Docker folder](https://github.com/Deep-MI/FastSurfer/blob/stable/Docker/)). The [README](https://github.com/Deep-MI/FastSurfer/blob/stable/Docker/README.md) there also contains information on how to build the docker from source."
      ]
    },
    {
      "cell_type": "markdown",
      "metadata": {
        "id": "WfZw3ZyGUhzL"
      },
      "source": [
        "## B2. FreeSurfer v7.3.2 installation\n"
      ]
    },
    {
      "cell_type": "markdown",
      "metadata": {
        "id": "DVRaw4nfU5XH"
      },
      "source": [
        "The recon-surf stream is largely build on FreeSurfer and such it is a necessary dependency.\n",
        "\n",
        "If you are using the docker, the only thing you need to get started is a valid FreeSurfer license. You can download it for free on the [FreeSurfer website](https://surfer.nmr.mgh.harvard.edu/registration.html).\n",
        "\n",
        "If you are using a local installation of FastSurfer (not docker), you need to a working installation of FreeSurfer 7.3.2. The FreeSurfer page contains detailed instructions on [how to install it](https://surfer.nmr.mgh.harvard.edu/fswiki/rel6downloads)."
      ]
    },
    {
      "cell_type": "markdown",
      "metadata": {
        "id": "-jV7fjQqU8q7"
      },
      "source": [
        "## C. Define the run command"
      ]
    },
    {
      "cell_type": "markdown",
      "metadata": {
        "id": "0nbQIUMlXQ-g"
      },
      "source": [
        "### C0 - Overview run_fastsurfer.sh"
      ]
    },
    {
      "cell_type": "code",
      "execution_count": null,
      "metadata": {
        "id": "kpUZuOuOhlpB"
      },
      "outputs": [],
      "source": []
    },
    {
      "cell_type": "markdown",
      "metadata": {
        "id": "c2N0en4GWy6i"
      },
      "source": [
        "For a local install, simply copy the following commands to your shell to see a list of options for the recon-surf pipeline\n",
        "\n",
        "```bash\n",
        "cd $FASTSURFER_HOME\n",
        "./run_fastsurfer.sh --help\n",
        "```\n",
        "\n",
        "For docker the command is similar\n",
        "```bash\n",
        "docker run --gpus device=0 --rm --user $(id -u):$(id -g) \\\n",
        "          deepmi/fastsurfer:latest --help\n",
        "```\n",
        "\n",
        "After running this command, all possible options for the recon-surf pipeline will be displayed:\n",
        "\n",
        "```bash\n",
        "Usage: run_fastsurfer.sh --sid <sid> --sd <sdir> --t1 <t1_input> [OPTIONS]\n",
        "\n",
        "run_fastsurfer.sh takes a T1 full head image and creates:\n",
        "     (i)  a segmentation using FastSurferVINN (equivalent to FreeSurfer\n",
        "          aparc.DKTatlas+aseg.mgz)\n",
        "     (ii) surfaces, thickness etc as a FS subject dir using recon-surf\n",
        "\n",
        "FLAGS:\n",
        "\n",
        "  --fs_license <license>  Path to FreeSurfer license key file. Register at\n",
        "                            https://surfer.nmr.mgh.harvard.edu/registration.html\n",
        "                            for free to obtain it if you do not have FreeSurfer\n",
        "                            installed already\n",
        "  --sid <subjectID>       Subject ID to create directory inside $SUBJECTS_DIR\n",
        "  --sd  <subjects_dir>    Output directory $SUBJECTS_DIR (or pass via env var)\n",
        "  --t1  <T1_input>        T1 full head input (not bias corrected). Requires an ABSOLUTE Path!\n",
        "  --asegdkt_segfile <filename>\n",
        "                          Name of the segmentation file, which includes the\n",
        "                          aparc+DKTatlas-aseg segmentations.\n",
        "                          Requires an ABSOLUTE Path! Default location:\n",
        "                          $SUBJECTS_DIR/$sid/mri/aparc.DKTatlas+aseg.deep.mgz\n",
        "  --vox_size <0.7-1|min>  Forces processing at a specific voxel size.\n",
        "                            If a number between 0.7 and 1 is specified (below\n",
        "                            is experimental) the T1w image is conformed to\n",
        "                            that voxel size and processed.\n",
        "                            If \"min\" is specified (default), the voxel size is\n",
        "                            read from the size of the minimal voxel size\n",
        "                            (smallest per-direction voxel size) in the T1w\n",
        "                            image:\n",
        "                              If the minimal voxel size is bigger than 0.98mm,\n",
        "                                the image is conformed to 1mm isometric.\n",
        "                              If the minimal voxel size is smaller or equal to\n",
        "                                0.98mm, the T1w image will be conformed to\n",
        "                                isometric voxels of that voxel size.\n",
        "                            The voxel size (whether set manually or derived)\n",
        "                            determines whether the surfaces are processed with\n",
        "                            highres options (below 1mm) or not.\n",
        "  -h --help               Print Help\n",
        "\n",
        "  PIPELINES:\n",
        "  By default, both the segmentation and the surface pipelines are run.\n",
        "\n",
        "  SEGMENTATION PIPELINE:\n",
        "  --seg_only              Run only FastSurferVINN (generate segmentation, do not\n",
        "                            run surface pipeline)\n",
        "  --seg_log <seg_log>     Log-file for the segmentation (FastSurferVINN)\n",
        "                            Default: $SUBJECTS_DIR/$sid/scripts/deep-seg.log\n",
        "  --conformed_name <conf.mgz>\n",
        "                          Name of the file in which the conformed input\n",
        "                            image will be saved. Requires an ABSOLUTE Path!\n",
        "                            Default location:\n",
        "                           $SUBJECTS_DIR/$sid/mri/orig.mgz.\n",
        "  --main_segfile <filename>\n",
        "                          Name of the segmentation file, which includes all labels\n",
        "                            (currently similar to aparc+aseg). When using\n",
        "                            FastSurfer, this segmentation is already conformed,\n",
        "                            since inference is always based on a conformed image.\n",
        "                            Currently, this is the same as the aparc+aseg and just\n",
        "                            a symlink to the asegdkt_segfile.\n",
        "                            Requires an ABSOLUTE Path! Default location:\n",
        "                            $SUBJECTS_DIR/$sid/mri/fastsurfer.merged.mgz\n",
        "\n",
        "SURFACE PIPELINE:\n",
        "  --surf_only             Run surface pipeline only. The segmentation input has\n",
        "                            to exist already in this case.\n",
        "  --vol_segstats          Additionally return volume-based aparc.DKTatlas+aseg\n",
        "                            statistics for DL-based segmentation (does not\n",
        "                            require surfaces). Can be used in combination with\n",
        "                            --seg_only in which case recon-surf only runs till\n",
        "                            CC is added.\n",
        "  --parallel              Run both hemispheres in parallel\n",
        "  --threads <int>         Set openMP and ITK threads to <int>\n",
        "\n",
        "  Resource Options:\n",
        "  --device                Set device on which inference should be run (\"cpu\" for\n",
        "                            CPU, \"cuda\" for Nvidia GPU, or pass specific device,\n",
        "                            e.g. cuda:1), default check GPU and then CPU\n",
        "  --viewagg_device <str>  Define where the view aggregation should be run on.\n",
        "                            Can be \"auto\" or a device (see --device). By default, the\n",
        "                            program checks if you have enough memory to run the\n",
        "                            view aggregation on the gpu. The total memory is\n",
        "                            considered for this decision. If this fails, or you\n",
        "                            actively overwrote the check with setting with \"cpu\"\n",
        "                            view agg is run on the cpu. Equivalently, if you\n",
        "                            pass a different device, view agg will be run on that\n",
        "                            device (no memory check will be done).\n",
        "  --batch <batch_size>    Batch size for inference. Default: 1\n",
        "  --py <python_cmd>       Command for python, used in both pipelines.\n",
        "                            Default: python3.8\n",
        "\n",
        " Dev Flags:\n",
        "  --ignore_fs_version     Switch on to avoid check for FreeSurfer version.\n",
        "                            Program will terminate if the supported version\n",
        "                            (see recon-surf.sh) is not sourced. Can be used for\n",
        "                            testing dev versions.\n",
        "  --fstess                Switch on mri_tesselate for surface creation (default:\n",
        "                            mri_mc)\n",
        "  --fsqsphere             Use FreeSurfer iterative inflation for qsphere\n",
        "                            (default: spectral spherical projection)\n",
        "  --fsaparc               Additionally create FS aparc segmentations and ribbon.\n",
        "                            Skipped by default (--> DL prediction is used which\n",
        "                            is faster, and usually these mapped ones are fine)\n",
        "  --no_fs_T1              Do not generate T1.mgz (normalized nu.mgz included in\n",
        "                            standard FreeSurfer output) and create brainmask.mgz\n",
        "                            directly from norm.mgz instead. Saves 1:30 min.\n",
        "  --no_surfreg             Do not run Surface registration with FreeSurfer (for\n",
        "                            cross-subject correspondence), Not recommended, but\n",
        "                            speeds up processing if you e.g. just need the segmentation stats!\n",
        "  --allow_root            Allow execution as root user.\n",
        "\n",
        "\n",
        "REFERENCES:\n",
        "\n",
        "If you use this for research publications, please cite:\n",
        "\n",
        "Henschel L, Conjeti S, Estrada S, Diers K, Fischl B, Reuter M, FastSurfer - A\n",
        " fast and accurate deep learning based neuroimaging pipeline, NeuroImage 219\n",
        " (2020), 117012. https://doi.org/10.1016/j.neuroimage.2020.117012\n",
        "\n",
        "Henschel L*, Kuegler D*, Reuter M. (*co-first). FastSurferVINN: Building\n",
        " Resolution-Independence into Deep Learning Segmentation Methods - A Solution\n",
        " for HighRes Brain MRI. NeuroImage 251 (2022), 118933.\n",
        " http://dx.doi.org/10.1016/j.neuroimage.2022.118933\n",
        "```"
      ]
    },
    {
      "cell_type": "markdown",
      "metadata": {
        "id": "wM7Ctu0zU_51"
      },
      "source": [
        "### C1 - Local install run command"
      ]
    },
    {
      "cell_type": "markdown",
      "metadata": {
        "id": "Z0acMmJSXWXz"
      },
      "source": [
        "Normally, the standard presets of the run_fastsurfer.sh command should be fine for you. You only need to adjust:\n",
        "\n",
        "1. The path to your input image (\\$image)\n",
        "2. The path to the output directory (\\$outputDir)\n",
        "3. The name of the subject (e.g. 140)\n",
        "4. Define what part you want to run (--surf_only: only surface pipeline, --seg_only: only segmentation (see Use case 2), do not set any flag to run both parts sequentially)\n",
        "\n",
        "In addition, you need to source FreeSurfer v7.3.2 before running FastSurfer:\n",
        "\n",
        "```bash\n",
        "###\n",
        "# Source FreeSurfer\n",
        "###\n",
        "export FREESURFER_HOME=/path/to/FreeSurfer_installation\n",
        "export FASTSURFER_HOME=/path/to/FastSurfer_installation\n",
        "source $FREESURFER_HOME/SetUpFreeSurfer.sh\n",
        "\n",
        "###\n",
        "# Final run command\n",
        "###\n",
        "./run_fastsurfer.sh --t1 $image \\\n",
        "                    --sid 140 \\\n",
        "                    --sd $outputDir \\\n",
        "                    --surf_only\n",
        "```"
      ]
    },
    {
      "cell_type": "markdown",
      "metadata": {
        "id": "XwTx7oXIVD2j"
      },
      "source": [
        "### C2 - Docker run command\n"
      ]
    },
    {
      "cell_type": "markdown",
      "metadata": {
        "id": "MXyVNHclaeap"
      },
      "source": [
        "\n",
        "Normally, the standard presets of the docker run fastsurfer:gpu command should be fine for you. You only need to adjust:\n",
        "\n",
        "1. The path to your input image (\\$image)\n",
        "> - Remember, that the input image path \\$input (FastSurfer/Tutorial/data/140_orig.mgz) is split into two parts\n",
        ">> - the directory FastSurfer/Tutorial/data/\n",
        ">> - the file name 140_orig.mgz\n",
        "2. The path to the output directory (\\$outputDir)\n",
        "3. The name of the subject (e.g. 140)\n",
        "4. Define what part you want to run (--surf_only: only surface pipeline, --seg_only: only segmentation (see Use case 2), do not set any flag to run both parts sequentially)\n",
        "5. Define the path to your FreeSurfer v7.3.2 license. You can download it for free on the [FreeSurfer website](https://surfer.nmr.mgh.harvard.edu/registration.html)\n",
        "\n",
        "In addition, you again have to add the docker specific definitions and mappings (volume mounts pointing to your local data directories).\n",
        "\n",
        "- Docker specific definitions\n",
        "> - docker run image:tag --> run your docker image\n",
        "> - --gpus device=0 --> use one gpu\n",
        "> - --rm --> remove the container once the process finishes\n",
        "> - --user \\$(id -u):\\$(id -g) --> run docker as local user\n",
        "\n",
        "Why do we split the \\$input into two parts?\n",
        "- Docker does only have access to the folders you specify via the -v flag (stands for volume mount); so in order to see the image, you have to tell it in which directory it should look. Inside docker this directory is known by the name behind the colon (-v path/to/input_dir:/name_inside_docker)\n",
        "\n",
        "```bash\n",
        "###\n",
        "# Final run command\n",
        "###\n",
        "docker run --gpus device=0 --rm --user $(id -u):$(id -g) \\\n",
        "          -v /FastSurfer/Tutorial/data:/data \\\n",
        "          -v /FastSurfer/Tutorial/output:/output \\\n",
        "          -v /path/to/fs_license_dir:/fs732_license\n",
        "          deepmi/fastsurfer:gpu --t1 /data/140_orig.mgz \\\n",
        "                         --sd /output \\\n",
        "                         --sid 140 \\\n",
        "                         --fs_license /fs732_license/.license \\\n",
        "                         --surf_only\n",
        "```"
      ]
    },
    {
      "cell_type": "markdown",
      "metadata": {
        "id": "ldmzPC5aaoQQ"
      },
      "source": [
        "## Done!"
      ]
    },
    {
      "cell_type": "markdown",
      "metadata": {
        "id": "wQym-kuePQy-"
      },
      "source": [
        "### Inspect the results\n",
        "After successfully running FastSurfer, you will have a FreeSurfer conform output directory.\n",
        "\n",
        "```bash\n",
        "cd FastSurfer/Tutorial/output\n",
        "ls\n",
        "\n",
        "140\n",
        "|\n",
        "├── label    (surface segmentation labels)\n",
        "├── mri      (basically all volume-based files - including our segmentations)\n",
        "├── scripts  (logs and run information)\n",
        "├── stats    (statistics on ROIs - volume, surface area, thickness info)\n",
        "├── surf     (surface models, thickness and curvature files)\n",
        "├── tmp      \n",
        "├── touch  \n",
        "└──trash\n",
        "\n",
        "\n",
        "```"
      ]
    },
    {
      "cell_type": "markdown",
      "metadata": {
        "id": "f-fA2gn2Kx4S"
      },
      "source": [
        "#### Entire directory structure\n",
        "\n",
        "Expand this tab to see what the entire directory would look like."
      ]
    },
    {
      "cell_type": "markdown",
      "metadata": {
        "id": "5ZJdpSX_KViL"
      },
      "source": [
        "\n",
        "```\n",
        "/FastSurfer/Tutorial/output\n",
        "├── 140\n",
        "    ├── label\n",
        "    │   ├── aparc.annot.mapped.ctab\n",
        "    │   ├── lh.aparc.DKTatlas.annot -> lh.aparc.DKTatlas.mapped.annot\n",
        "    │   ├── lh.aparc.DKTatlas.mapped.annot\n",
        "    │   ├── lh.aparc.DKTatlas.mapped.prefix.annot\n",
        "    │   ├── lh.cortex+hipamyg.label\n",
        "    │   ├── lh.cortex.label\n",
        "    │   ├── lh.nofix.cortex.label\n",
        "    │   ├── rh.aparc.DKTatlas.annot -> rh.aparc.DKTatlas.mapped.annot\n",
        "    │   ├── rh.aparc.DKTatlas.mapped.annot\n",
        "    │   ├── rh.aparc.DKTatlas.mapped.prefix.annot\n",
        "    │   ├── rh.cortex+hipamyg.label\n",
        "    │   ├── rh.cortex.label\n",
        "    │   └── rh.nofix.cortex.label\n",
        "    ├── mri\n",
        "    │   ├── antsdn.brain.mgz\n",
        "    │   ├── aparc+aseg.mgz -> aparc.DKTatlas+aseg.mapped.mgz\n",
        "    │   ├── aparc.DKTatlas+aseg.deep.mgz\n",
        "    │   ├── aparc.DKTatlas+aseg.deep.withCC.mgz\n",
        "    │   ├── aparc.DKTatlas+aseg.mapped.mgz\n",
        "    │   ├── aparc.DKTatlas+aseg.mgz -> aparc.DKTatlas+aseg.mapped.mgz\n",
        "    │   ├── aparc.DKTatlas+aseg.orig.mgz\n",
        "    │   ├── aseg.auto.mgz\n",
        "    │   ├── aseg.auto_noCCseg.mgz\n",
        "    │   ├── aseg.mgz\n",
        "    │   ├── aseg.presurf.hypos.mgz\n",
        "    │   ├── aseg.presurf.mgz\n",
        "    │   ├── brain.finalsurfs.mgz\n",
        "    │   ├── brainmask.mgz\n",
        "    │   ├── brain.mgz\n",
        "    │   ├── filled.auto.mgz\n",
        "    │   ├── filled.mgz\n",
        "    │   ├── filled-pretess127.mgz\n",
        "    │   ├── filled-pretess255.mgz\n",
        "    │   ├── lh.ribbon.mgz\n",
        "    │   ├── lh.surface.defects.mgz\n",
        "    │   ├── mask.mgz\n",
        "    │   ├── norm.mgz\n",
        "    │   ├── nu.mgz\n",
        "    │   ├── orig\n",
        "    │   │   └── 001.mgz\n",
        "    │   ├── orig.mgz\n",
        "    │   ├── orig_nu.mgz\n",
        "    │   ├── rawavg.mgz -> orig.mgz\n",
        "    │   ├── rh.ribbon.mgz\n",
        "    │   ├── rh.surface.defects.mgz\n",
        "    │   ├── ribbon.mgz\n",
        "    │   ├── segment.dat\n",
        "    │   ├── T1.mgz\n",
        "    │   ├── tmp\n",
        "    │   ├── transforms\n",
        "    │   │   ├── bak\n",
        "    │   │   ├── cc_up.lta\n",
        "    │   │   ├── talairach.auto.xfm\n",
        "    │   │   ├── talairach.auto.xfm.lta\n",
        "    │   │   ├── talairach_avi.log\n",
        "    │   │   ├── talairach.lta -> talairach.xfm.lta\n",
        "    │   │   ├── talairach_with_skull.lta -> talairach.xfm.lta\n",
        "    │   │   ├── talairach.xfm\n",
        "    │   │   └── talairach.xfm.lta\n",
        "    │   ├── wm.asegedit.mgz\n",
        "    │   ├── wm.mgz\n",
        "    │   ├── wmparc.DKTatlas.mapped.mgz\n",
        "    │   ├── wmparc.mgz -> wmparc.DKTatlas.mapped.mgz\n",
        "    │   └── wm.seg.mgz\n",
        "    ├── scripts\n",
        "    │   ├── build-stamp.txt\n",
        "    │   ├── deep-seg.log\n",
        "    │   ├── defect2seg.log\n",
        "    │   ├── lastcall.build-stamp.txt\n",
        "    │   ├── lh.processing.cmdf\n",
        "    │   ├── patchdir.txt\n",
        "    │   ├── pctsurfcon.log\n",
        "    │   ├── pctsurfcon.log.old\n",
        "    │   ├── ponscc.cut.log\n",
        "    │   ├── recon-all.cmd\n",
        "    │   ├── recon-all.done\n",
        "    │   ├── recon-all.env\n",
        "    │   ├── recon-all.env.bak\n",
        "    │   ├── recon-all.local-copy\n",
        "    │   ├── recon-all.log\n",
        "    │   ├── recon-all-status.log\n",
        "    │   ├── recon-config.yaml\n",
        "    │   ├── recon-surf.done\n",
        "    │   ├── recon-surf.log\n",
        "    │   ├── recon-surf_times.yaml\n",
        "    │   ├── rh.processing.cmdf\n",
        "    │   └── unknown-args.txt\n",
        "    ├── stats\n",
        "    │   ├── aseg.presurf.hypos.stats\n",
        "    │   ├── aseg.stats\n",
        "    │   ├── brainvol.stats\n",
        "    │   ├── lh.aparc.DKTatlas.mapped.stats\n",
        "    │   ├── lh.curv.stats\n",
        "    │   ├── lh.w-g.pct.stats\n",
        "    │   ├── rh.aparc.DKTatlas.mapped.stats\n",
        "    │   ├── rh.curv.stats\n",
        "    │   ├── rh.w-g.pct.stats\n",
        "    │   └── wmparc.DKTatlas.mapped.stats\n",
        "    ├── surf\n",
        "    │   ├── autodet.gw.stats.lh.dat\n",
        "    │   ├── autodet.gw.stats.rh.dat\n",
        "    │   ├── lh.area\n",
        "    │   ├── lh.area.mid\n",
        "    │   ├── lh.area.pial\n",
        "    │   ├── lh.curv\n",
        "    │   ├── lh.curv.pial\n",
        "    │   ├── lh.defect_borders\n",
        "    │   ├── lh.defect_chull\n",
        "    │   ├── lh.defect_labels\n",
        "    │   ├── lh.defects.pointset\n",
        "    │   ├── lh.inflated\n",
        "    │   ├── lh.inflated.H\n",
        "    │   ├── lh.inflated.K\n",
        "    │   ├── lh.inflated.nofix\n",
        "    │   ├── lh.orig\n",
        "    │   ├── lh.orig.nofix\n",
        "    │   ├── lh.orig.nofix.predec\n",
        "    │   ├── lh.orig.premesh\n",
        "    │   ├── lh.pial -> lh.pial.T1\n",
        "    │   ├── lh.pial.T1\n",
        "    │   ├── lh.qsphere.nofix\n",
        "    │   ├── lh.smoothwm\n",
        "    │   ├── lh.smoothwm.BE.crv\n",
        "    │   ├── lh.smoothwm.C.crv\n",
        "    │   ├── lh.smoothwm.FI.crv\n",
        "    │   ├── lh.smoothwm.H.crv\n",
        "    │   ├── lh.smoothwm.K1.crv\n",
        "    │   ├── lh.smoothwm.K2.crv\n",
        "    │   ├── lh.smoothwm.K.crv\n",
        "    │   ├── lh.smoothwm.nofix\n",
        "    │   ├── lh.smoothwm.S.crv\n",
        "    │   ├── lh.sulc\n",
        "    │   ├── lh.thickness\n",
        "    │   ├── lh.volume\n",
        "    │   ├── lh.w-g.pct.mgh\n",
        "    │   ├── lh.white\n",
        "    │   ├── lh.white.H -> lh.white.preaparc.H\n",
        "    │   ├── lh.white.K -> lh.white.preaparc.K\n",
        "    │   ├── lh.white.preaparc\n",
        "    │   ├── lh.white.preaparc.H\n",
        "    │   ├── lh.white.preaparc.K\n",
        "    │   ├── rh.area\n",
        "    │   ├── rh.area.mid\n",
        "    │   ├── rh.area.pial\n",
        "    │   ├── rh.curv\n",
        "    │   ├── rh.curv.pial\n",
        "    │   ├── rh.defect_borders\n",
        "    │   ├── rh.defect_chull\n",
        "    │   ├── rh.defect_labels\n",
        "    │   ├── rh.defects.pointset\n",
        "    │   ├── rh.inflated\n",
        "    │   ├── rh.inflated.H\n",
        "    │   ├── rh.inflated.K\n",
        "    │   ├── rh.inflated.nofix\n",
        "    │   ├── rh.orig\n",
        "    │   ├── rh.orig.nofix\n",
        "    │   ├── rh.orig.nofix.predec\n",
        "    │   ├── rh.orig.premesh\n",
        "    │   ├── rh.pial -> rh.pial.T1\n",
        "    │   ├── rh.pial.T1\n",
        "    │   ├── rh.qsphere.nofix\n",
        "    │   ├── rh.smoothwm\n",
        "    │   ├── rh.smoothwm.BE.crv\n",
        "    │   ├── rh.smoothwm.C.crv\n",
        "    │   ├── rh.smoothwm.FI.crv\n",
        "    │   ├── rh.smoothwm.H.crv\n",
        "    │   ├── rh.smoothwm.K1.crv\n",
        "    │   ├── rh.smoothwm.K2.crv\n",
        "    │   ├── rh.smoothwm.K.crv\n",
        "    │   ├── rh.smoothwm.nofix\n",
        "    │   ├── rh.smoothwm.S.crv\n",
        "    │   ├── rh.sulc\n",
        "    │   ├── rh.thickness\n",
        "    │   ├── rh.volume\n",
        "    │   ├── rh.w-g.pct.mgh\n",
        "    │   ├── rh.white\n",
        "    │   ├── rh.white.H -> rh.white.preaparc.H\n",
        "    │   ├── rh.white.K -> rh.white.preaparc.K\n",
        "    │   ├── rh.white.preaparc\n",
        "    │   ├── rh.white.preaparc.H\n",
        "    │   └── rh.white.preaparc.K\n",
        "    ├── tmp\n",
        "    ├── touch\n",
        "    │   ├── apas2aseg.touch\n",
        "    │   ├── asegmerge.touch\n",
        "    │   ├── cortical_ribbon.touch\n",
        "    │   ├── fill.touch\n",
        "    │   ├── inorm2.touch\n",
        "    │   ├── lh.autodet.gw.stats.touch\n",
        "    │   ├── lh.cortex+hipamyg.touch\n",
        "    │   ├── lh.cortex.touch\n",
        "    │   ├── lh.curvstats.touch\n",
        "    │   ├── lh.inflate1.touch\n",
        "    │   ├── lh.inflate2.touch\n",
        "    │   ├── lh.inflate.H.K.touch\n",
        "    │   ├── lh.smoothwm2.touch\n",
        "    │   ├── lh.topofix.touch\n",
        "    │   ├── lh.white.H.K.touch\n",
        "    │   ├── lh.white.preaparc.touch\n",
        "    │   ├── relabelhypos.touch\n",
        "    │   ├── rh.autodet.gw.stats.touch\n",
        "    │   ├── rh.cortex+hipamyg.touch\n",
        "    │   ├── rh.cortex.touch\n",
        "    │   ├── rh.curvstats.touch\n",
        "    │   ├── rh.inflate1.touch\n",
        "    │   ├── rh.inflate2.touch\n",
        "    │   ├── rh.inflate.H.K.touch\n",
        "    │   ├── rh.smoothwm2.touch\n",
        "    │   ├── rh.topofix.touch\n",
        "    │   ├── rh.white.H.K.touch\n",
        "    │   ├── rh.white.preaparc.touch\n",
        "    │   ├── segstats.touch\n",
        "    │   └── wmsegment.touch\n",
        "    └── trash\n",
        "\n",
        "12 directories, 203 files\n",
        "```   "
      ]
    },
    {
      "cell_type": "markdown",
      "metadata": {
        "id": "NClX9eOZKs5W"
      },
      "source": [
        "### Visualize the results\n",
        "We can now, for example, visualize the created surfaces by using freeview (or the neuroimaging visualization GUI of your choice).\n",
        "\n",
        "```\n",
        "export FREESURFER_HOME=/path/to/FreeSurfer\n",
        "source $FREESURFER_HOME/SetUpFreeSurfer.sh\n",
        "\n",
        "freeview -v ./mri/norm.mgz ./mri/aseg.mgz:colormap=lut:opacity=0.2 ./mri/aparc.DKTatlas+aseg.mapped.mgz:colormap=lut:opacity=0.2 \\\n",
        "-f ./surf/lh.white:edgecolor=blue \\\n",
        "./surf/lh.pial:edgecolor=red \\\n",
        "./surf/rh.white:edgecolor=blue \\\n",
        "./surf/rh.pial:edgecolor=red\n",
        "```\n"
      ]
    },
    {
      "cell_type": "markdown",
      "metadata": {
        "id": "VnVKy7arar1X"
      },
      "source": [
        "## FAQ - Common questions and problems"
      ]
    },
    {
      "cell_type": "markdown",
      "metadata": {
        "id": "MhBpoVUKgBYM"
      },
      "source": [
        "### Does FastSurfer work with FreeSurfer 7.1?\n",
        "\n",
        "No, FastSurfer currently only works with FreeSurfer 7.3.2\n",
        "\n",
        "### Does FastSurfer work with FreeSurfer 5.X?\n",
        "\n",
        "No, FastSurfer only works with FreeSurfer 7.3.2\n",
        "\n",
        "### I want to add some processing in between/after the final run that I normally do in recon-all. Is that possible?\n",
        "\n",
        "Potentially yes. You can enter the FreeSurfer command you want to run into the recon-surf.sh script at the appropriate position. If you have a local installation, these changes will directly be included in the next run. For the docker version you would need to create your custom docker (basically you need to copy the changed code inside). Instructions on how to build the docker from scratch are included in our repository (https://github.com/deep-mi/fastsurfer/tree/master/Docker). The procedure might be tricky, if you do not have any programming experience, but you can open an issue or sent us an email and we will try to help the best we can."
      ]
    },
    {
      "cell_type": "markdown",
      "metadata": {
        "id": "n6oIJ-FkZrHy"
      },
      "source": [
        "# Bonus - Quality analysis using qatools\n",
        "\n",
        "The [python qatools](https://github.com/Deep-MI/qatools-python) contains a set of quality assurance / quality control scripts for Freesurfer or FastSurfer processed structural MRI data.\n",
        "\n",
        "The program will use an existing output directory (or try to create it) and write a csv table into that location. The csv table will contains a number of useful metrics plus a subject identifier.\n",
        "\n",
        "In order to analyze FastSurfer processed images, add a --fastsurfer switch to your shell command. Note that the full processing stream FastSurfer must have been run, including surface reconstruction (i.e. brain segmentation alone is not sufficient).\n"
      ]
    },
    {
      "cell_type": "markdown",
      "metadata": {
        "id": "ZLQmdqurNE1f"
      },
      "source": [
        "## Installation"
      ]
    },
    {
      "cell_type": "markdown",
      "metadata": {
        "id": "HRfBqRsfZ18O"
      },
      "source": [
        "Clone the repository (if not done yet) and set up the necessary variables (FreeSurfer). Check out the command line options by running the default command with the help flag.\n",
        "\n",
        "```bash\n",
        "# Local clone of repository\n",
        "git clone -q https://github.com/Deep-MI/qatools-python\n",
        "cd qatools-python\n",
        "export QATOOLS=$PWD\n",
        "export FREESURFER_HOME=/path/to/FreeSurfer\n",
        "source $FREESURFER_HOME/SetUpFreeSurfer.sh\n",
        "\n",
        "# install dependencies (via pip)\n",
        "python3 -m pip install --user -r requirements.txt\n",
        "\n",
        "# Check out command line options\n",
        "python3 qatools.py --help\n",
        "```\n",
        "\n",
        "Output:\n",
        "```bash\n",
        "-----------------------------\n",
        "qatools-python\n",
        "-----------------------------\n",
        "\n",
        "usage: qatools.py --subjects_dir <directory> --output_dir <directory>\n",
        "                  [--subjects SubjectID [SubjectID ...]] [--screenshots]\n",
        "                  [--fornix] [--outlier] [--outlier-table <filename>]\n",
        "                  [--fastsurfer] [-h]\n",
        "\n",
        "        This program takes existing Freesurfer 7.2.0 analysis results of one\n",
        "        or more subjects and computes a set of quality metrics. These will be\n",
        "        reported in a summary csv table.\n",
        "\n",
        "        For a description of these metrics, see the gitlab/github page or the\n",
        "        header section of this script.\n",
        "\n",
        "        The (optional) analysis of shape features requires additional scripts\n",
        "        that can be obtained from https://reuter.mit.edu\n",
        "        \n",
        "\n",
        "required arguments:\n",
        "  --subjects_dir <directory>\n",
        "                        subjects directory with a set of Freesurfer 7.2.0\n",
        "                        processed individual datasets.\n",
        "  --output_dir <directory>\n",
        "                        output directory\n",
        "\n",
        "optional arguments:\n",
        "  --subjects SubjectID [SubjectID ...]\n",
        "                        list of subject IDs. If omitted, all suitable sub-\n",
        "                        directories within the subjects directory will be\n",
        "                        used.\n",
        "  --screenshots         create screenshots of individual brains\n",
        "  --fornix              check fornix segmentation\n",
        "  --outlier             run outlier detection\n",
        "  --outlier-table <filename>\n",
        "                        specify normative values\n",
        "  --fastsurfer          use FastSurfer output\n",
        "\n",
        "getting help:\n",
        "  -h, --help            display this help message and exit\n",
        "\n",
        "```"
      ]
    },
    {
      "cell_type": "markdown",
      "metadata": {
        "id": "ZgLkhWkk8lyL"
      },
      "source": [
        "## Run QA analysis\n"
      ]
    },
    {
      "cell_type": "markdown",
      "metadata": {
        "id": "SpiLnYOtdAt-"
      },
      "source": [
        "Now, we can go to our FastSurfer Tutorial directory and create a quality report of the  segmentations as well as detect potential error cases through the outlier detection module.\n",
        "\n",
        "```bash\n",
        "\n",
        "# Go to directory with FastSurfer processed images\n",
        "cd /FastSurfer/Tutorial/output\n",
        "python3 $QATOOLS/qatools.py --subjects_dir /FastSurfer/Tutorial/output \\\n",
        "                            --output_dir /FastSurfer/Tutorial/output/qatools \\\n",
        "                            --fastsurfer\n",
        "\n",
        "# check out the resulting table\n",
        "less /FastSurfer/Tutorial/output/qatools-result.csv\n",
        "```"
      ]
    },
    {
      "cell_type": "markdown",
      "metadata": {
        "id": "qysXQQtefugX"
      },
      "source": [
        "Investiage outlier subject with freeview to see what went wrong.\n",
        "\n",
        "```bash\n",
        "outlier=032\n",
        "freeview -v /FastSurfer/Tutorial/output/$outlier/mri/orig.mgz \\\n",
        "        -v /FastSurfer/Tutorial/output/$outlier/mri/./mri/aparc.DKTatlas+aseg.mapped.mgz:colormap=lut\n",
        "\n",
        "```"
      ]
    }
  ],
  "metadata": {
    "accelerator": "GPU",
    "colab": {
      "collapsed_sections": [
        "I4gAXjWbtZJl",
        "Vtvpt98OuGPC",
        "WGLkCHvZuP3o",
        "nde66Pz9uwU7",
        "u2hcyiOb1lCD",
        "KXOUZqy1vDGX",
        "ZXFhCKTzvDGg",
        "t3zO-rHTvDGg",
        "nxRXDpFovDGh",
        "61KeLNjTvDGh",
        "0nbQIUMlXQ-g"
      ],
      "gpuType": "T4",
      "provenance": [],
      "include_colab_link": true
    },
    "kernelspec": {
      "display_name": "Python 3",
      "name": "python3"
    }
  },
  "nbformat": 4,
  "nbformat_minor": 0
}